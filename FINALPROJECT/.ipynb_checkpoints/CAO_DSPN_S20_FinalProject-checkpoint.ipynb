{
 "cells": [
  {
   "cell_type": "markdown",
   "metadata": {},
   "source": [
    "# Syntactical Bootstrapping as noun-learning mechanism "
   ]
  },
  {
   "cell_type": "markdown",
   "metadata": {},
   "source": [
    "## Background\n",
    "\n",
    "How do babies learn words? This question remains one of the most mesmerizing myteries in developmental psychology. Young children must be able to establish the correspondences between words and their references. Previous studies have shown that syntactical structures can help young children to constrain verb meanings. In a seimnal paper, Naigles (1990) found that two-year-olds can use the transitive structure to narrow down the meanings of a novel verb. For example, if they hear \"The bunny is gorping the duck\" while seeing two agents engaged in an causal action and a non-causal action simultaneously. When prompted \"Find gorping\", the toddlers would look reliably longer at the scenes in which the two agents only performed the causal action than the scenes in which they only performed the non-causal action. This phenomenon is named as \"Syntactical Bootstrapping\". Since then, many researchers have built uponon this idea and extended the earliest age group showing the effect to as young as 15-month-olds (Jin & Fisher, 2014; Yuan, Fisher & Snedeker, 2012).\n",
    "\n",
    "However, previous works on syntactical bootstrapping have focused exclusively on verb learning. This is partly due to the considertations that verbs are as more challening to learn (Gentner, 1982; Gentner & Boroditsky, 2001; Gleitman et al., 2005). Therefore, it is necessary to rely on additional information, such as the syntactical bootstrapping mechanism, to scaffold learning. Yet there is no reason to presuppose that verbs are the only category of words benefiting from syntactical cues. It is true that noun learning are often considered as requiring relatively less syntactcal support (Arunachalam & Waxman, 2010). Yet, syntactical categories such as nouns and verbs are only meaningful to those who have learned syntax (Christansen & Monaghan, 2006). Young children start to show sensitivity to syntactical structure way before they become competent grammatical speakers. Thus, it is very likely that noun learning can be aided by the syntactical structures as well.\n",
    "\n",
    "\n",
    "### Current experiment:\n",
    "\n",
    "Current experiment examines the possibility of syntactical bootstrapping as noun-learning mechanism. Specifically, we are interested in whether infants can map the subject of the sentence to the causal agent of the scene. We use a habituation paradigm to test 12-month-olds and 20 month-olds. Infants are first habituated to a direct-launching event with two different blocks while they repeatedly hear \"Neem pushes that\". The goal is to see if they can map novel noun \"neem\" to the causal agent in the scene. There are two testing blocks in the testing phase, a label-only block and a novel-sentence block. In the label only block, the infants hear the label \"Neem\" while seeing either the agent block passing through the screen or the patient block passing through the screen. In the novel-sentence block, the infants hear a novel sentence \"That pushes neem\" while seeing either the direct launching event from the habituation phase, or the direct launching event with the agent's and the patient's roles switched. Below is a schematic figure illustrating the experiment procedure: \n",
    "\n",
    "\n",
    "<img src=\"fig.png\">\n",
    "\n",
    "\n",
    "\n",
    "\n"
   ]
  },
  {
   "cell_type": "markdown",
   "metadata": {},
   "source": [
    "Our predictions are following: If the infants have learned the mapping between the subject of the sentence and the agent of the scene, they should look longer at the trials in which the mapping is inconsistent. In the label-only block, they should look longer at the trial in which \"neem\" is paried with the patient. In the novel-sentence block, they should look longer at the trial in which \"that pushes neem\" is paired with the original direct launching event. Alternatively, infants may only acquire a superficial association between the label \"neem\" and the causal agent in the scene. They may associate \"neem\" with the causal agent because of an order effect, i.e., \"neem\" is the first word in the sentence, and the agent block is the first to move in the scene. Then, they should only look longer at the incosistent pairing in the label-only block, not in the novel-sentence block. Another possibility is that syntactical information is necessary for young children to acquire word meaning. If this is the case, then infant should only look longer at the inconsistent pairing in the novel-sentence block, not in the label-only block. \n"
   ]
  },
  {
   "cell_type": "markdown",
   "metadata": {},
   "source": [
    "## Variables\n",
    "\n",
    "- **ID**: participant ID, each represents a unique participant \n",
    "- **Sex**: categorical, Male or Female. as reported by the parents\n",
    "- **AgeGroup**: categorical, Young or Old. Young are participants in 12-month-old group. Old are participants in 20-month-old group. As reported by the parents. \n",
    "- **ageByDays**: numerical, calculated by the difference between their Date of Brith and Date of Test. As reported by the parents. \n",
    "- **CDI.Score**: numerical. Calculated by the CDI short form (Fenson et al., 2000). \n",
    "\n",
    "- **trialType** : categorical, test / pretest / posttest. Each participants have all three kinds of trials. \n",
    "    - **Pretest and Post-test** trials play the roles of attention checker, to detect if the infants' decreased looking time in habituation phase are due to general fatigue. \n",
    "    - **Test** trials are trials in which the looking time is compared. \n",
    "    \n",
    "- **blockType** : categorical, nontest/label/sentence. \n",
    "    - ** nontest ** are pretest trials and posttest trials. \n",
    "    - **label** are trials in which the infants only hear the novel word \"neem\" and see either the agent block or the patient block passing through the screen. \n",
    "    - **sentence** are trials in which the infants hear a novel sentence \"that pushes neem\" and see either the old direct lauching event or the new direct lauching event with agent and patient switched. \n",
    "\n",
    "- ** consistency ** : categorical, nontest / conssitent / inconsistent. \n",
    "    - **nontest** are pretest trials and posttest trials. \n",
    "    - **consistent**: are test trials in which the pairing of the label \"neem\" and the block on the screen is consistent with the pairing infants habituated to. \n",
    "    - **inconsistent**: are test trials in which the pairing of the label \"neem\" and the block on the screen is inconsistent with the pairing infants habituated to. \n",
    "\n",
    "    \n"
   ]
  },
  {
   "cell_type": "markdown",
   "metadata": {},
   "source": [
    "## Hypotheses\n",
    "\n",
    "I am are primarily interested in the difference between looking time in consistent trials versus nonconsistent trials and whether the difference can be predicted by the CDI score. There are two models of interests: Variables that may influence the difference in the looking time are:\n",
    "\n",
    "\n",
    "- LookingTimeDuration ~ Age + Sex + Block + Consistency + Consistency * Block + (1 | Participant_ID)\n",
    "\t- LookingTimeDuration: continuous, duration of looking toward the screen.\n",
    "\t- Age: categorical variable, 12-month-olds group / 20-month-olds. \n",
    "        - Previous studies have shown that around 18-month of age, young children would experience \"vocabulary spurt\", in which their rate of words acuqisition dramatically increase (Goldfield & Reznick, 1990). One factor that can lead to this acceleration is the developing syntactical capacity (McMurray, 2007). Here, I predict that children before vocabulary spurt (12-month-olds, Young group) would show less difference between consistent and inconsistent trials than children after vocabulary spurt (20-month-olds, Old group).\n",
    "\t- Sex: categorical variable, F/M. \n",
    "        - female's early language development advantage is a well-documented phenomenon (Maccoby & Jacklin,1974; Fenson et al., 1991) Here the hypothesis is that compared to male, female will show larger looking time difference in consistent and inconsistent trials. \n",
    "\t- Consistency: categorical variable, consistency/inconsistency\n",
    "        - According to our hypothesis, infants shoud look longer at the trials in which the mapping between subject and agent is inconsistent. \n",
    "\t- Block: categorical variable, label-only/sentence block. \n",
    "        - We don't have an explicit hypothesis for this factor.\n",
    "\t- Consistency * Block: these two may interact \n",
    "\t- add participant_ID as random effect \n",
    "\n",
    "\n",
    "- LookingTimeDifference ~ Sex + CDI_Score + Sex*CDI_Score + (1 | Participant_ID)\n",
    "\t- LookingTimeDifference: looking time in inconsistency trials - looking time in consistency trials \n",
    "\t- Sex: categorical variable, F/M\n",
    "\t- CDI_Score: continuous variable, scored by CDI form \n",
    "        - CDI scores is a reliable indicator of the children's language skill (Fenson et al., 2000). Here, I hypothesize that higher CDI score will predict larger difference in their looking time difference.\n",
    "\t- Sex*CDI_Score: these two may interact, girls might do better than boys\n",
    "\t\n"
   ]
  },
  {
   "cell_type": "markdown",
   "metadata": {},
   "source": [
    "## Data Organization \n",
    "\n",
    "Due to the COVID-19 outbreak, the data collection has been interrupted. The current sample size is insufficient to be the basis for any inferences. Therefore, in the pre-processing section, I will use the existing results to generate some simulated data, and run a power-analysis to find out an ideal \"sample\" size. "
   ]
  },
  {
   "cell_type": "code",
   "execution_count": 10,
   "metadata": {},
   "outputs": [
    {
     "name": "stderr",
     "output_type": "stream",
     "text": [
      "Loading required package: Matrix\n",
      "\n",
      "\n",
      "Attaching package: ‘Matrix’\n",
      "\n",
      "\n",
      "The following object is masked from ‘package:tidyr’:\n",
      "\n",
      "    expand\n",
      "\n",
      "\n"
     ]
    },
    {
     "data": {
      "text/html": [
       "<table>\n",
       "<thead><tr><th scope=col>ID</th><th scope=col>Sex</th><th scope=col>AgeGroup</th><th scope=col>ageByDays</th><th scope=col>CDI.SCORE</th><th scope=col>trialType</th><th scope=col>LookingTime</th><th scope=col>blockType</th><th scope=col>consistency</th></tr></thead>\n",
       "<tbody>\n",
       "\t<tr><td>young 1 </td><td>F       </td><td>Young   </td><td>353 days</td><td>5       </td><td>pretest </td><td>28.0    </td><td>nontest </td><td>nontest </td></tr>\n",
       "\t<tr><td>young 2 </td><td>M       </td><td>Young   </td><td>362 days</td><td>1       </td><td>pretest </td><td>29.5    </td><td>nontest </td><td>nontest </td></tr>\n",
       "\t<tr><td>young 3 </td><td>F       </td><td>Young   </td><td>356 days</td><td>4       </td><td>pretest </td><td> 7.7    </td><td>nontest </td><td>nontest </td></tr>\n",
       "\t<tr><td>young 5 </td><td>F       </td><td>Young   </td><td>378 days</td><td>2       </td><td>pretest </td><td>29.7    </td><td>nontest </td><td>nontest </td></tr>\n",
       "\t<tr><td>young 6 </td><td>M       </td><td>Young   </td><td>376 days</td><td>4       </td><td>pretest </td><td>14.1    </td><td>nontest </td><td>nontest </td></tr>\n",
       "\t<tr><td>young 7 </td><td>F       </td><td>Young   </td><td>370 days</td><td>1       </td><td>pretest </td><td> 7.6    </td><td>nontest </td><td>nontest </td></tr>\n",
       "</tbody>\n",
       "</table>\n"
      ],
      "text/latex": [
       "\\begin{tabular}{r|lllllllll}\n",
       " ID & Sex & AgeGroup & ageByDays & CDI.SCORE & trialType & LookingTime & blockType & consistency\\\\\n",
       "\\hline\n",
       "\t young 1  & F        & Young    & 353 days & 5        & pretest  & 28.0     & nontest  & nontest \\\\\n",
       "\t young 2  & M        & Young    & 362 days & 1        & pretest  & 29.5     & nontest  & nontest \\\\\n",
       "\t young 3  & F        & Young    & 356 days & 4        & pretest  &  7.7     & nontest  & nontest \\\\\n",
       "\t young 5  & F        & Young    & 378 days & 2        & pretest  & 29.7     & nontest  & nontest \\\\\n",
       "\t young 6  & M        & Young    & 376 days & 4        & pretest  & 14.1     & nontest  & nontest \\\\\n",
       "\t young 7  & F        & Young    & 370 days & 1        & pretest  &  7.6     & nontest  & nontest \\\\\n",
       "\\end{tabular}\n"
      ],
      "text/markdown": [
       "\n",
       "| ID | Sex | AgeGroup | ageByDays | CDI.SCORE | trialType | LookingTime | blockType | consistency |\n",
       "|---|---|---|---|---|---|---|---|---|\n",
       "| young 1  | F        | Young    | 353 days | 5        | pretest  | 28.0     | nontest  | nontest  |\n",
       "| young 2  | M        | Young    | 362 days | 1        | pretest  | 29.5     | nontest  | nontest  |\n",
       "| young 3  | F        | Young    | 356 days | 4        | pretest  |  7.7     | nontest  | nontest  |\n",
       "| young 5  | F        | Young    | 378 days | 2        | pretest  | 29.7     | nontest  | nontest  |\n",
       "| young 6  | M        | Young    | 376 days | 4        | pretest  | 14.1     | nontest  | nontest  |\n",
       "| young 7  | F        | Young    | 370 days | 1        | pretest  |  7.6     | nontest  | nontest  |\n",
       "\n"
      ],
      "text/plain": [
       "  ID      Sex AgeGroup ageByDays CDI.SCORE trialType LookingTime blockType\n",
       "1 young 1 F   Young    353 days  5         pretest   28.0        nontest  \n",
       "2 young 2 M   Young    362 days  1         pretest   29.5        nontest  \n",
       "3 young 3 F   Young    356 days  4         pretest    7.7        nontest  \n",
       "4 young 5 F   Young    378 days  2         pretest   29.7        nontest  \n",
       "5 young 6 M   Young    376 days  4         pretest   14.1        nontest  \n",
       "6 young 7 F   Young    370 days  1         pretest    7.6        nontest  \n",
       "  consistency\n",
       "1 nontest    \n",
       "2 nontest    \n",
       "3 nontest    \n",
       "4 nontest    \n",
       "5 nontest    \n",
       "6 nontest    "
      ]
     },
     "metadata": {},
     "output_type": "display_data"
    }
   ],
   "source": [
    "library(tidyverse)\n",
    "library(lme4)\n",
    "\n",
    "young_raw <- read.csv(\"/Users/caoanjie/Desktop/Spring2020/DS/_DSPN_S20/FINALPROJECT/CALA_12MO_RAW.csv\")\n",
    "old_raw <- read.csv(\"/Users/caoanjie/Desktop/Spring2020/DS/_DSPN_S20/FINALPROJECT/CALA_20MO_RAW.csv\")\n",
    "young_raw %>% \n",
    "  mutate(AgeGroup = \"Young\") %>% \n",
    "  mutate(ID = paste(\"young\", as.character(ID))) %>% \n",
    "  mutate(ageByDays = as.Date(as.character(Test.Date), format=\"%m/%d/%Y\") - as.Date(as.character(DOB), format=\"%m/%d/%Y\")) %>% \n",
    "  select(ID, Sex, AgeGroup, ageByDays, CDI.SCORE,pretest, blue.neem, black.neem, black.blue.that, blue.black.that, Posttest) %>% \n",
    "  rename(label_inconsistent = blue.neem, label_consistent = black.neem, sentence_inconsistent = black.blue.that, sentence_consistent = blue.black.that, posttest = Posttest) %>% \n",
    "  gather(trialType, LookingTime, pretest:posttest) %>% \n",
    "  mutate(blockType = ifelse(grepl(\"label\", trialType), \"label\", ifelse(grepl(\"sentence\", trialType),  \"sentence\", \"nontest\")),\n",
    "         consistency = ifelse(grepl(\"inconsistent\", trialType), \"inconsistent\", ifelse(grepl(\"consistent\", trialType), \"consistent\",\"nontest\")),\n",
    "         trialType = ifelse(trialType %in% c(\"pretest\", \"posttest\"), trialType, \"test\")) %>% \n",
    "  na.omit -> young_raw\n",
    "\n",
    "old_raw %>% \n",
    "  mutate(AgeGroup = \"Old\") %>% \n",
    "  mutate(ID = paste(\"old\", as.character(ID))) %>% \n",
    "  mutate(ageByDays = as.Date(as.character(Test.Date), format=\"%m/%d/%Y\") - as.Date(as.character(DOB), format=\"%m/%d/%Y\")) %>% \n",
    "  select(ID, Sex, AgeGroup, ageByDays, CDI.SCORE,pretest, blue.neem, black.neem, black.blue.that, blue.black.that, Posttest) %>% \n",
    "  rename(label_inconsistent = blue.neem, label_consistent = black.neem, sentence_inconsistent = black.blue.that, sentence_consistent = blue.black.that,posttest = Posttest ) %>% \n",
    "  gather(trialType, LookingTime, pretest:posttest) %>% \n",
    " mutate(blockType = ifelse(grepl(\"label\", trialType), \"label\", ifelse(grepl(\"sentence\", trialType),  \"sentence\", \"nontest\")),\n",
    "         consistency = ifelse(grepl(\"inconsistent\", trialType), \"inconsistent\", ifelse(grepl(\"consistent\", trialType), \"consistent\",\"nontest\")),\n",
    "         trialType = ifelse(trialType %in% c(\"pretest\", \"posttest\"), trialType, \"test\")) %>%  \n",
    "  na.omit -> old_raw\n",
    "\n",
    "data <- bind_rows(young_raw, old_raw) \n",
    "head(data)"
   ]
  },
  {
   "cell_type": "markdown",
   "metadata": {},
   "source": [
    "Here, we first try to fit the model on the existing dataset: "
   ]
  },
  {
   "cell_type": "code",
   "execution_count": 11,
   "metadata": {},
   "outputs": [
    {
     "name": "stderr",
     "output_type": "stream",
     "text": [
      "fixed-effect model matrix is rank deficient so dropping 4 columns / coefficients\n",
      "\n"
     ]
    },
    {
     "data": {
      "text/html": [
       "<table>\n",
       "<thead><tr><th></th><th scope=col>Estimate</th><th scope=col>Std. Error</th><th scope=col>t value</th></tr></thead>\n",
       "<tbody>\n",
       "\t<tr><th scope=row>(Intercept)</th><td>21.4030307</td><td>3.796770  </td><td> 5.6371688</td></tr>\n",
       "\t<tr><th scope=row>AgeGroupYoung</th><td>-5.1847101</td><td>3.088566  </td><td>-1.6786787</td></tr>\n",
       "\t<tr><th scope=row>SexM</th><td> 0.2995981</td><td>3.187523  </td><td> 0.0939909</td></tr>\n",
       "\t<tr><th scope=row>blockTypenontest</th><td> 2.1077354</td><td>2.606469  </td><td> 0.8086556</td></tr>\n",
       "\t<tr><th scope=row>blockTypesentence</th><td>-0.8235294</td><td>2.992638  </td><td>-0.2751851</td></tr>\n",
       "\t<tr><th scope=row>consistencyinconsistent</th><td>-1.4823529</td><td>2.992638  </td><td>-0.4953332</td></tr>\n",
       "\t<tr><th scope=row>blockTypesentence:consistencyinconsistent</th><td> 1.9941176</td><td>4.232229  </td><td> 0.4711743</td></tr>\n",
       "</tbody>\n",
       "</table>\n"
      ],
      "text/latex": [
       "\\begin{tabular}{r|lll}\n",
       "  & Estimate & Std. Error & t value\\\\\n",
       "\\hline\n",
       "\t(Intercept) & 21.4030307 & 3.796770   &  5.6371688\\\\\n",
       "\tAgeGroupYoung & -5.1847101 & 3.088566   & -1.6786787\\\\\n",
       "\tSexM &  0.2995981 & 3.187523   &  0.0939909\\\\\n",
       "\tblockTypenontest &  2.1077354 & 2.606469   &  0.8086556\\\\\n",
       "\tblockTypesentence & -0.8235294 & 2.992638   & -0.2751851\\\\\n",
       "\tconsistencyinconsistent & -1.4823529 & 2.992638   & -0.4953332\\\\\n",
       "\tblockTypesentence:consistencyinconsistent &  1.9941176 & 4.232229   &  0.4711743\\\\\n",
       "\\end{tabular}\n"
      ],
      "text/markdown": [
       "\n",
       "| <!--/--> | Estimate | Std. Error | t value |\n",
       "|---|---|---|---|\n",
       "| (Intercept) | 21.4030307 | 3.796770   |  5.6371688 |\n",
       "| AgeGroupYoung | -5.1847101 | 3.088566   | -1.6786787 |\n",
       "| SexM |  0.2995981 | 3.187523   |  0.0939909 |\n",
       "| blockTypenontest |  2.1077354 | 2.606469   |  0.8086556 |\n",
       "| blockTypesentence | -0.8235294 | 2.992638   | -0.2751851 |\n",
       "| consistencyinconsistent | -1.4823529 | 2.992638   | -0.4953332 |\n",
       "| blockTypesentence:consistencyinconsistent |  1.9941176 | 4.232229   |  0.4711743 |\n",
       "\n"
      ],
      "text/plain": [
       "                                          Estimate   Std. Error t value   \n",
       "(Intercept)                               21.4030307 3.796770    5.6371688\n",
       "AgeGroupYoung                             -5.1847101 3.088566   -1.6786787\n",
       "SexM                                       0.2995981 3.187523    0.0939909\n",
       "blockTypenontest                           2.1077354 2.606469    0.8086556\n",
       "blockTypesentence                         -0.8235294 2.992638   -0.2751851\n",
       "consistencyinconsistent                   -1.4823529 2.992638   -0.4953332\n",
       "blockTypesentence:consistencyinconsistent  1.9941176 4.232229    0.4711743"
      ]
     },
     "metadata": {},
     "output_type": "display_data"
    }
   ],
   "source": [
    "lt_current <- lmer(LookingTime ~ AgeGroup+Sex+blockType+consistency+blockType*consistency+(1|ID), data=data)\n",
    "summary(lt_current)$coefficients"
   ]
  },
  {
   "cell_type": "markdown",
   "metadata": {},
   "source": [
    "Use the estimate for the betas to generate some data: "
   ]
  },
  {
   "cell_type": "code",
   "execution_count": 15,
   "metadata": {},
   "outputs": [
    {
     "data": {
      "text/html": [
       "<table>\n",
       "<thead><tr><th scope=col>gen_subject</th><th scope=col>gen_intercept</th><th scope=col>gen_Age_Beta</th><th scope=col>gen_Sex_Beta</th><th scope=col>gen_blockType_Beta</th><th scope=col>gen_consistencyType_Beta</th><th scope=col>gen_subjects_interaction</th><th scope=col>condition</th><th scope=col>lookingtime</th><th scope=col>age</th><th scope=col>sex</th><th scope=col>block</th><th scope=col>consistency</th></tr></thead>\n",
       "<tbody>\n",
       "\t<tr><td>1                            </td><td>23.58994                     </td><td>-7.216059                    </td><td>-1.164587                    </td><td>-1.1817028                   </td><td>-1.593992                    </td><td>1.944381                     </td><td>young_female_label_consistent</td><td>18.02501                     </td><td>young                        </td><td>F                            </td><td>label                        </td><td>consistent                   </td></tr>\n",
       "\t<tr><td>2                            </td><td>23.56108                     </td><td>-7.347003                    </td><td>-1.322623                    </td><td>-0.6685386                   </td><td>-1.296416                    </td><td>2.059230                     </td><td>young_female_label_consistent</td><td>15.79644                     </td><td>young                        </td><td>F                            </td><td>label                        </td><td>consistent                   </td></tr>\n",
       "\t<tr><td>3                            </td><td>23.71730                     </td><td>-7.327963                    </td><td>-1.407355                    </td><td>-1.0642852                   </td><td>-1.175406                    </td><td>2.104336                     </td><td>young_female_label_consistent</td><td>19.44505                     </td><td>young                        </td><td>F                            </td><td>label                        </td><td>consistent                   </td></tr>\n",
       "\t<tr><td>4                            </td><td>23.49911                     </td><td>-7.066767                    </td><td>-1.121740                    </td><td>-1.0647896                   </td><td>-1.333798                    </td><td>2.195083                     </td><td>young_female_label_consistent</td><td>21.08994                     </td><td>young                        </td><td>F                            </td><td>label                        </td><td>consistent                   </td></tr>\n",
       "\t<tr><td>5                            </td><td>23.86986                     </td><td>-6.964248                    </td><td>-1.578506                    </td><td>-0.9202863                   </td><td>-1.214435                    </td><td>2.215720                     </td><td>young_female_label_consistent</td><td>20.55923                     </td><td>young                        </td><td>F                            </td><td>label                        </td><td>consistent                   </td></tr>\n",
       "\t<tr><td>6                            </td><td>23.39917                     </td><td>-6.902682                    </td><td>-1.248584                    </td><td>-0.7637151                   </td><td>-1.530406                    </td><td>1.867548                     </td><td>young_female_label_consistent</td><td>17.46301                     </td><td>young                        </td><td>F                            </td><td>label                        </td><td>consistent                   </td></tr>\n",
       "</tbody>\n",
       "</table>\n"
      ],
      "text/latex": [
       "\\begin{tabular}{r|lllllllllllll}\n",
       " gen\\_subject & gen\\_intercept & gen\\_Age\\_Beta & gen\\_Sex\\_Beta & gen\\_blockType\\_Beta & gen\\_consistencyType\\_Beta & gen\\_subjects\\_interaction & condition & lookingtime & age & sex & block & consistency\\\\\n",
       "\\hline\n",
       "\t 1                                   & 23.58994                            & -7.216059                           & -1.164587                           & -1.1817028                          & -1.593992                           & 1.944381                            & young\\_female\\_label\\_consistent & 18.02501                            & young                               & F                                   & label                               & consistent                         \\\\\n",
       "\t 2                                   & 23.56108                            & -7.347003                           & -1.322623                           & -0.6685386                          & -1.296416                           & 2.059230                            & young\\_female\\_label\\_consistent & 15.79644                            & young                               & F                                   & label                               & consistent                         \\\\\n",
       "\t 3                                   & 23.71730                            & -7.327963                           & -1.407355                           & -1.0642852                          & -1.175406                           & 2.104336                            & young\\_female\\_label\\_consistent & 19.44505                            & young                               & F                                   & label                               & consistent                         \\\\\n",
       "\t 4                                   & 23.49911                            & -7.066767                           & -1.121740                           & -1.0647896                          & -1.333798                           & 2.195083                            & young\\_female\\_label\\_consistent & 21.08994                            & young                               & F                                   & label                               & consistent                         \\\\\n",
       "\t 5                                   & 23.86986                            & -6.964248                           & -1.578506                           & -0.9202863                          & -1.214435                           & 2.215720                            & young\\_female\\_label\\_consistent & 20.55923                            & young                               & F                                   & label                               & consistent                         \\\\\n",
       "\t 6                                   & 23.39917                            & -6.902682                           & -1.248584                           & -0.7637151                          & -1.530406                           & 1.867548                            & young\\_female\\_label\\_consistent & 17.46301                            & young                               & F                                   & label                               & consistent                         \\\\\n",
       "\\end{tabular}\n"
      ],
      "text/markdown": [
       "\n",
       "| gen_subject | gen_intercept | gen_Age_Beta | gen_Sex_Beta | gen_blockType_Beta | gen_consistencyType_Beta | gen_subjects_interaction | condition | lookingtime | age | sex | block | consistency |\n",
       "|---|---|---|---|---|---|---|---|---|---|---|---|---|\n",
       "| 1                             | 23.58994                      | -7.216059                     | -1.164587                     | -1.1817028                    | -1.593992                     | 1.944381                      | young_female_label_consistent | 18.02501                      | young                         | F                             | label                         | consistent                    |\n",
       "| 2                             | 23.56108                      | -7.347003                     | -1.322623                     | -0.6685386                    | -1.296416                     | 2.059230                      | young_female_label_consistent | 15.79644                      | young                         | F                             | label                         | consistent                    |\n",
       "| 3                             | 23.71730                      | -7.327963                     | -1.407355                     | -1.0642852                    | -1.175406                     | 2.104336                      | young_female_label_consistent | 19.44505                      | young                         | F                             | label                         | consistent                    |\n",
       "| 4                             | 23.49911                      | -7.066767                     | -1.121740                     | -1.0647896                    | -1.333798                     | 2.195083                      | young_female_label_consistent | 21.08994                      | young                         | F                             | label                         | consistent                    |\n",
       "| 5                             | 23.86986                      | -6.964248                     | -1.578506                     | -0.9202863                    | -1.214435                     | 2.215720                      | young_female_label_consistent | 20.55923                      | young                         | F                             | label                         | consistent                    |\n",
       "| 6                             | 23.39917                      | -6.902682                     | -1.248584                     | -0.7637151                    | -1.530406                     | 1.867548                      | young_female_label_consistent | 17.46301                      | young                         | F                             | label                         | consistent                    |\n",
       "\n"
      ],
      "text/plain": [
       "  gen_subject gen_intercept gen_Age_Beta gen_Sex_Beta gen_blockType_Beta\n",
       "1 1           23.58994      -7.216059    -1.164587    -1.1817028        \n",
       "2 2           23.56108      -7.347003    -1.322623    -0.6685386        \n",
       "3 3           23.71730      -7.327963    -1.407355    -1.0642852        \n",
       "4 4           23.49911      -7.066767    -1.121740    -1.0647896        \n",
       "5 5           23.86986      -6.964248    -1.578506    -0.9202863        \n",
       "6 6           23.39917      -6.902682    -1.248584    -0.7637151        \n",
       "  gen_consistencyType_Beta gen_subjects_interaction\n",
       "1 -1.593992                1.944381                \n",
       "2 -1.296416                2.059230                \n",
       "3 -1.175406                2.104336                \n",
       "4 -1.333798                2.195083                \n",
       "5 -1.214435                2.215720                \n",
       "6 -1.530406                1.867548                \n",
       "  condition                     lookingtime age   sex block consistency\n",
       "1 young_female_label_consistent 18.02501    young F   label consistent \n",
       "2 young_female_label_consistent 15.79644    young F   label consistent \n",
       "3 young_female_label_consistent 19.44505    young F   label consistent \n",
       "4 young_female_label_consistent 21.08994    young F   label consistent \n",
       "5 young_female_label_consistent 20.55923    young F   label consistent \n",
       "6 young_female_label_consistent 17.46301    young F   label consistent "
      ]
     },
     "metadata": {},
     "output_type": "display_data"
    }
   ],
   "source": [
    "# use the parameters generated by current data \n",
    "betas  = c(23.69, -7.29,-1.32,-0.82,-1.48,1.99)\n",
    "# I don't really know where can I find these SD? The regression model \n",
    "sds = c(0.2,0.2,0.2,0.2,0.2,0.2)\n",
    "\n",
    "\n",
    "#This is the function for generating simulation data \n",
    "simulate_data <- function(num_subjects, num_trials,trial_SD, model_Beta, model_SD){\n",
    "  \n",
    "  intercept = model_Beta[1]\n",
    "  Age_Beta = model_Beta[2]\n",
    "  Sex_Beta = model_Beta[3]\n",
    "  blockType_Beta = model_Beta[4]\n",
    "  consistencyType_Beta = model_Beta[5]\n",
    "  interaction_Beta = model_Beta[6]\n",
    "  \n",
    "  intercept_SD = model_SD[1]\n",
    "  Age_SD = model_SD[2]\n",
    "  Sex_SD = model_SD[3]\n",
    "  blockType_SD = model_SD[4]\n",
    "  consistencyType_SD = model_SD[5]\n",
    "  interaction_SD = model_SD[6]\n",
    "  \n",
    "  subjects_intercepts <- rnorm(num_subjects, intercept, intercept_SD)\n",
    "  subjects_Age <- rnorm(num_subjects, Age_Beta, Age_SD)\n",
    "  subjects_Sex <- rnorm(num_subjects, Sex_Beta, Sex_SD)\n",
    "  subjects_blockType <- rnorm(num_subjects, blockType_Beta, blockType_SD)\n",
    "  subjects_consistencyType <- rnorm(num_subjects, consistencyType_Beta, consistencyType_SD)\n",
    "  subjects_interaction <- rnorm(num_subjects, interaction_Beta, interaction_SD)\n",
    "  \n",
    "  generated_data <- data.frame(gen_subject = 1:num_subjects, \n",
    "                               gen_intercept = subjects_intercepts,\n",
    "                               gen_Age_Beta = subjects_Age,\n",
    "                               gen_Sex_Beta = subjects_Sex,\n",
    "                               gen_blockType_Beta = subjects_blockType,\n",
    "                               gen_consistencyType_Beta = subjects_consistencyType,\n",
    "                               gen_subjects_interaction = subjects_interaction)\n",
    "  generated_data %>% \n",
    "    nest(-gen_subject, .key = parameters) %>% \n",
    "  mutate(young_female_label_inconsistent = map(parameters, ~rnorm(num_trials, intercept+Age_Beta+consistencyType_Beta+interaction_Beta,trial_SD)),\n",
    "         young_female_label_consistent = map(parameters, ~rnorm(num_trials, intercept+Age_Beta+interaction_Beta,trial_SD)),\n",
    "         young_female_sentence_inconsistent = map(parameters, ~rnorm(num_trials, intercept+Age_Beta+blockType_Beta+consistencyType_Beta+interaction_Beta,trial_SD)),\n",
    "         young_female_sentence_consistent = map(parameters, ~rnorm(num_trials, intercept+Age_Beta+blockType_Beta+interaction_Beta,trial_SD)),\n",
    "         young_male_label_inconsistent =  map(parameters, ~rnorm(num_trials, intercept+Age_Beta+Sex_Beta+consistencyType_Beta+interaction_Beta,trial_SD)),\n",
    "         young_male_label_consistent = map(parameters, ~rnorm(num_trials, intercept+Age_Beta+Sex_Beta+interaction_Beta,trial_SD)),\n",
    "         young_male_sentence_inconsistent = map(parameters, ~rnorm(num_trials,\n",
    "                                                                 intercept+Age_Beta+Sex_Beta+blockType_Beta+consistencyType_Beta+interaction_Beta,trial_SD)),\n",
    "         young_male_sentence_consistent = map(parameters, ~rnorm(num_trials, intercept+Age_Beta+Sex_Beta+blockType_Beta+interaction_Beta,trial_SD)),\n",
    "         old_female_label_inconsistent = map(parameters, ~rnorm(num_trials, intercept+consistencyType_Beta+interaction_Beta,trial_SD)),\n",
    "         old_female_label_consistent = map(parameters, ~rnorm(num_trials, intercept+interaction_Beta,trial_SD)),\n",
    "         old_female_sentence_inconsistent = map(parameters, ~rnorm(num_trials, intercept+blockType_Beta+consistencyType_Beta+interaction_Beta,trial_SD)),\n",
    "         old_female_sentence_consistent = map(parameters, ~rnorm(num_trials, intercept+blockType_Beta+interaction_Beta,trial_SD)),\n",
    "         old_male_label_inconsistent = map(parameters, ~rnorm(num_trials, intercept+Sex_Beta+consistencyType_Beta+interaction_Beta,trial_SD)),\n",
    "         old_male_label_consistent = map(parameters, ~rnorm(num_trials, intercept+Sex_Beta+interaction_Beta,trial_SD)),\n",
    "         old_male_sentence_consistent = map(parameters, ~rnorm(num_trials,\n",
    "                                                                 intercept+Sex_Beta+blockType_Beta+consistencyType_Beta+interaction_Beta,trial_SD)),\n",
    "         old_male_sentence_inconsistent = map(parameters, ~rnorm(num_trials, intercept+Sex_Beta+blockType_Beta+interaction_Beta,trial_SD))) %>% \n",
    "  unnest(young_female_label_consistent,\n",
    "                young_female_label_inconsistent,\n",
    "                young_female_sentence_consistent,\n",
    "                young_female_sentence_inconsistent,\n",
    "                young_male_label_consistent,\n",
    "                young_male_label_inconsistent,\n",
    "                young_male_sentence_consistent,\n",
    "                young_male_sentence_inconsistent,\n",
    "                old_female_label_consistent,\n",
    "                old_female_label_inconsistent,\n",
    "                old_female_sentence_consistent,\n",
    "                old_female_sentence_inconsistent,\n",
    "                old_male_label_consistent,\n",
    "                old_male_label_inconsistent,\n",
    "                old_male_sentence_consistent,\n",
    "                old_male_sentence_inconsistent,\n",
    "                .drop = FALSE)  %>% \n",
    "  unnest(parameters) %>% \n",
    "  gather(condition, lookingtime, young_female_label_consistent:old_male_sentence_inconsistent)-> data_generated\n",
    "\n",
    "  data_generated %>% \n",
    "    mutate(\n",
    "      age = ifelse(grepl(\"young\", condition), \"young\", \"old\"),\n",
    "      sex = ifelse(grepl(\"female\",condition), \"F\", \"M\"),\n",
    "      block = ifelse(grepl(\"label\",condition),\"label\",\"sentence\"), \n",
    "      consistency = ifelse(grepl(\"inconsistent\",condition), \"inconsistent\",\"consistent\")\n",
    "    ) -> data_generated\n",
    "  \n",
    "return(data_generated)  \n",
    "}\n",
    "\n",
    "#An example of generated data:\n",
    "sim_data <- simulate_data(20, 1, 1.5, betas, sds)\n",
    "head(sim_data)"
   ]
  },
  {
   "cell_type": "markdown",
   "metadata": {},
   "source": [
    "Run multiple simulations for power analysis"
   ]
  },
  {
   "cell_type": "code",
   "execution_count": null,
   "metadata": {},
   "outputs": [],
   "source": [
    "run_analysis <- function(data) {\n",
    "    # fit null and alternative model\n",
    "    m0 <- lmer(lookingtime ~ 1 + (1 | gen_subject), data=data, REML=FALSE, control=lmerControl(calc.derivs = FALSE))\n",
    "    m1 <- lmer(lookingtime ~ age + sex + consistency + block + consistency * block + (1 | gen_subject), data=data, REML=FALSE, control=lmerControl(calc.derivs = FALSE))\n",
    "    #You can replace with change in AIC or a p-value for a likelihood ratio statistic\n",
    "    m_bic <- BIC(m0, m1)$BIC\n",
    "    statistic <- diff(m_bic)\n",
    "    return(statistic)\n",
    "}\n",
    "\n",
    "repeat_analysis <- function(num_simulations, num_subjects, num_trials,trial_sd, model_Beta, model_SD) {\n",
    "    bic_diffs <- c() # empty vector to store delta BICs from each simulation\n",
    "    # loop for repeating the simulation\n",
    "    for (i in 1:num_simulations) {\n",
    "        data <- simulate_data(num_subjects, num_trials,trial_sd, model_Beta, model_SD)\n",
    "        bic_diff <- run_analysis(data)\n",
    "        bic_diffs <- c(bic_diffs,bic_diff) # add the current p.value to the vector\n",
    "    }\n",
    "    \n",
    "    # calculate how many of the simulations had significant results\n",
    "    power <- mean(bic_diffs <= -20) #strong evidence, see Raftery & Kass 1995\n",
    "    return(list(power = power, bic_diffs = bic_diffs))\n",
    "}\n",
    "\n",
    "\n",
    "dat <- expand.grid(num_subjects = c(16,24,32,40), num_trials = c(1,2,3,4))\n",
    "dat$id <- 1:nrow(dat)\n",
    "\n",
    "results <- dat  %>% \n",
    "    nest(-id, .key = 'parameters')  %>% \n",
    "    mutate(power = map(parameters, ~ repeat_analysis(500, .$num_subjects, .$num_trials, 0.2, betas,sds)$power))  %>% \n",
    "    unnest(parameters, power)"
   ]
  },
  {
   "cell_type": "markdown",
   "metadata": {},
   "source": [
    "Generate plots"
   ]
  },
  {
   "cell_type": "code",
   "execution_count": null,
   "metadata": {
    "collapsed": true
   },
   "outputs": [],
   "source": [
    "options(repr.plot.width=6, repr.plot.height=4)\n",
    "results %>% \n",
    "ggplot(aes(x=num_subjects, y=power, color=as.factor(num_trials))) +\n",
    "    geom_point() +\n",
    "    geom_line() +\n",
    "    geom_hline(yintercept = 0.8) +\n",
    "    geom_hline(yintercept = 0.95) +\n",
    "    scale_color_discrete('Number of trials per subject') +\n",
    "    scale_x_continuous('Number of subjects') +\n",
    "    scale_y_continuous('Statistical power (for Delta BIC <= -20)') +\n",
    "    theme_classic()"
   ]
  },
  {
   "cell_type": "markdown",
   "metadata": {},
   "source": [
    "## Analysis "
   ]
  },
  {
   "cell_type": "markdown",
   "metadata": {},
   "source": [
    "## Conclusion "
   ]
  }
 ],
 "metadata": {
  "kernelspec": {
   "display_name": "R",
   "language": "R",
   "name": "ir"
  },
  "language_info": {
   "codemirror_mode": "r",
   "file_extension": ".r",
   "mimetype": "text/x-r-source",
   "name": "R",
   "pygments_lexer": "r",
   "version": "3.6.1"
  }
 },
 "nbformat": 4,
 "nbformat_minor": 2
}
