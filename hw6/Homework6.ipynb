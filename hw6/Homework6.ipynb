{
 "cells": [
  {
   "cell_type": "markdown",
   "metadata": {},
   "source": [
    "# Homework 6: \n",
    "\n",
    "**DUE:** 5pm EST, April 9, 2020\n"
   ]
  },
  {
   "cell_type": "markdown",
   "metadata": {},
   "source": [
    "\n",
    "### **Conceptual:** Short answer questions. Be concise\n",
    "\n",
    "---"
   ]
  },
  {
   "cell_type": "markdown",
   "metadata": {},
   "source": [
    "1. Let us consider the \"curse of dimensionality\" (i.e., when the ratio of predictor variables, p, to observations, n, is high) in the context of kNN. Answer the following:\n",
    "\n",
    "<br>\n",
    "\n",
    "(a) Suppose that we have a set of observations, each with measurements on p = 1 feature, X. We assume that X is uniformly (evenly) distributed between 0 and 1. Associated with each observation is a response value. Suppose that we wish to predict a test observation’s response using only observations that are within 10% of the range of X closest to that test observation. For instance, in order to predict the response for a test observation with X = 0.6, we will use observations in the range [0.55,0.65]. On average, what fraction of the available observations will we use to make the prediction?"
   ]
  },
  {
   "cell_type": "markdown",
   "metadata": {},
   "source": [
    "**Answer:**\n",
    "\n",
    "$0.1$"
   ]
  },
  {
   "cell_type": "markdown",
   "metadata": {},
   "source": [
    "(b) Suppose that we have a set of observations, each with measurements on p = 2 features, X1 and X2. We assume that (X1,X2) are uniformly distributed between 0 and 1. We wish to predict a test observation’s response using only observations that are within 10% of the range of X1 and within 10% of the range of X2 closest to that test observation. For instance, in order to predict the response for a test observation with X1 = 0.6 and X2 = 0.35, we will use observations in the range [0.55, 0.65] for X1 and in the range [0.3, 0.4] for X2. On average, what fraction of the available observations will we use to make the prediction?"
   ]
  },
  {
   "cell_type": "markdown",
   "metadata": {},
   "source": [
    "**Answer:**\n",
    "\n",
    "$0.1 ^ 2 = 0.01 $"
   ]
  },
  {
   "cell_type": "markdown",
   "metadata": {},
   "source": [
    "(c) Now suppose that we have a set of observations on p = 100 features. Again the observations are uniformly distributed on each feature, and again each feature ranges in value from 0 to 1. We wish to predict a test observation’s response using observations within the 10% of each feature’s range that is closest to that test observation. What fraction of the available observations will we use to make the prediction?"
   ]
  },
  {
   "cell_type": "markdown",
   "metadata": {},
   "source": [
    "**Answer:**\n",
    "\n",
    "$0.1 ^{100} $\n"
   ]
  },
  {
   "cell_type": "markdown",
   "metadata": {},
   "source": [
    "(c)  Using your answers to parts (a)–(c), argue that a drawback of KNN when p is large is that there are very few training observations “near” any given test observation."
   ]
  },
  {
   "cell_type": "markdown",
   "metadata": {},
   "source": [
    "**Answer:**\n",
    "\n",
    "As the answers above show, when p increases, the fraction of the available observations used to make the prediction becomes exponentially smaller. When p is very large, very few training observations will be considered as being \"near\" the test observation."
   ]
  },
  {
   "cell_type": "markdown",
   "metadata": {},
   "source": [
    "---\n",
    "\n",
    "2. Explain how k-fold cross-validation is implemented. What are the advantages and disadvantages of k-fold cross-validation relative to LOOCV?\n",
    "\n"
   ]
  },
  {
   "cell_type": "markdown",
   "metadata": {},
   "source": [
    "**Answer:**\n",
    "- How: \n",
    "    1. Divide all observations into k groups, each group has $\\frac{n}{k}$ observations\n",
    "    2. Selected one of these k-folds as testing set. Take it out, make the remaining observations the new dataset. \n",
    "    3. Fit the new dataset with the model. \n",
    "    4. Using the testing set to calculate the model's residula errors and the predicted values. \n",
    "    5. repeat 1-4 for all k-folds \n",
    "    6. Evaluate the model based on the residual errors across all k groups and the correlations between the predicted values and the observed values \n",
    "    \n",
    "- Advantage relative to LOOCV\n",
    "    - Computationally cheaper: if dataset has a lot of the observations, it will take a very long time for LOOCV to iterate through all of them. \n",
    "    - Lower variance: less overlap between the training data, so the model trained using k-fold is more generalizable than LOOCV.\n",
    "    \n",
    "- Disadvantage relative to LOOCV\n",
    "    - More biased: when k < n, there are going to be less observations in each folds, and make the estimates more biased than LOOCV. "
   ]
  },
  {
   "cell_type": "markdown",
   "metadata": {},
   "source": [
    "---\n",
    "\n",
    "3. Differentiate the bootstrap from a permutation test. Describe each and when is it appropriate to each."
   ]
  },
  {
   "cell_type": "markdown",
   "metadata": {},
   "source": [
    "**Answer:**\n",
    "\n",
    "- Bootstrap: \n",
    "    - Calculate the test of interests in original dataset \n",
    "    - Run m iterations. Each time randomly draw n observations from the dataset. This is a sampling with replacement procedure so observations would be drawn more than once. \n",
    "    - Calculate the distributional parameters across all iterations, estimate the confidence intervals to see the statistics of the real test of interests\n",
    "   \n",
    "- Permutation \n",
    "    - Calculate the test of interests in original dataset \n",
    "    - Permute across the comparisons \n",
    "    - For each different permutation, run the test of interests again \n",
    "    - Calculate the probability of seeing the original test's statistics in all permutations \n",
    "\n",
    "\n",
    "- Comparison: \n",
    "    - Bootstrap is sampling with replacement, Permutation is sampling without replacement. The former uses each observation more than once, the latter only once. \n",
    "    - Bootstrap is good for calculating confidence intervals, it evaluates the variability in the sampling process; Permutation is good for testing hypotheses. It tests hypothesis along one specific dimension, so it works the best when there is a very specific hypothesis. "
   ]
  },
  {
   "cell_type": "markdown",
   "metadata": {},
   "source": [
    "---\n",
    "\n",
    "### **Applied:** Show your code & plots\n",
    "\n",
    "We will use both datasets from the HCP dataset for these problems. Include conceptual answers to questions as comments in code cells. You should use the tidyverse and class libraries for this assignment, as well as the data table for the HCP data set."
   ]
  },
  {
   "cell_type": "code",
   "execution_count": 106,
   "metadata": {},
   "outputs": [
    {
     "data": {
      "text/html": [
       "<table>\n",
       "<thead><tr><th scope=col>Subject</th><th scope=col>Release</th><th scope=col>Acquisition</th><th scope=col>Gender</th><th scope=col>Age</th><th scope=col>MMSE_Score</th><th scope=col>PSQI_Score</th><th scope=col>PSQI_Comp1</th><th scope=col>PSQI_Comp2</th><th scope=col>PSQI_Comp3</th><th scope=col>...</th><th scope=col>Noise_Comp</th><th scope=col>Odor_Unadj</th><th scope=col>Odor_AgeAdj</th><th scope=col>PainIntens_RawScore</th><th scope=col>PainInterf_Tscore</th><th scope=col>Taste_Unadj</th><th scope=col>Taste_AgeAdj</th><th scope=col>Mars_Log_Score</th><th scope=col>Mars_Errs</th><th scope=col>Mars_Final</th></tr></thead>\n",
       "<tbody>\n",
       "\t<tr><td>100004</td><td>S900  </td><td>Q06   </td><td>M     </td><td>22-25 </td><td>29    </td><td> 8    </td><td>1     </td><td>2     </td><td>2     </td><td>...   </td><td>5.2   </td><td>101.12</td><td> 86.45</td><td> 2    </td><td>45.9  </td><td>107.17</td><td>105.31</td><td>1.80  </td><td>0     </td><td>1.80  </td></tr>\n",
       "\t<tr><td>100206</td><td>S900  </td><td>Q11   </td><td>M     </td><td>26-30 </td><td>30    </td><td> 6    </td><td>1     </td><td>1     </td><td>1     </td><td>...   </td><td>6.0   </td><td>108.79</td><td> 97.19</td><td> 1    </td><td>49.7  </td><td> 72.63</td><td> 72.03</td><td>1.84  </td><td>0     </td><td>1.84  </td></tr>\n",
       "\t<tr><td>100307</td><td>Q1    </td><td>Q01   </td><td>F     </td><td>26-30 </td><td>29    </td><td> 4    </td><td>1     </td><td>0     </td><td>1     </td><td>...   </td><td>3.6   </td><td>101.12</td><td> 86.45</td><td> 0    </td><td>38.6  </td><td> 71.69</td><td> 71.76</td><td>1.76  </td><td>0     </td><td>1.76  </td></tr>\n",
       "\t<tr><td>100408</td><td>Q3    </td><td>Q03   </td><td>M     </td><td>31-35 </td><td>30    </td><td> 4    </td><td>1     </td><td>1     </td><td>0     </td><td>...   </td><td>2.0   </td><td>108.79</td><td> 98.04</td><td> 2    </td><td>52.6  </td><td>114.01</td><td>113.59</td><td>1.76  </td><td>2     </td><td>1.68  </td></tr>\n",
       "\t<tr><td>100610</td><td>S900  </td><td>Q08   </td><td>M     </td><td>26-30 </td><td>30    </td><td> 4    </td><td>1     </td><td>1     </td><td>0     </td><td>...   </td><td>2.0   </td><td>122.25</td><td>110.45</td><td> 0    </td><td>38.6  </td><td> 84.84</td><td> 85.31</td><td>1.92  </td><td>1     </td><td>1.88  </td></tr>\n",
       "\t<tr><td>101006</td><td>S500  </td><td>Q06   </td><td>F     </td><td>31-35 </td><td>28    </td><td> 2    </td><td>1     </td><td>1     </td><td>0     </td><td>...   </td><td>6.0   </td><td>122.25</td><td>111.41</td><td> 0    </td><td>38.6  </td><td>123.80</td><td>123.31</td><td>1.80  </td><td>0     </td><td>1.80  </td></tr>\n",
       "\t<tr><td>101107</td><td>S500  </td><td>Q06   </td><td>M     </td><td>22-25 </td><td>29    </td><td> 9    </td><td>1     </td><td>1     </td><td>3     </td><td>...   </td><td>6.8   </td><td>108.79</td><td> 97.19</td><td> 1    </td><td>50.1  </td><td>134.65</td><td>131.38</td><td>1.84  </td><td>0     </td><td>1.84  </td></tr>\n",
       "\t<tr><td>101208</td><td>S1200 </td><td>Q12   </td><td>F     </td><td>31-35 </td><td>30    </td><td> 6    </td><td>1     </td><td>2     </td><td>0     </td><td>...   </td><td>4.4   </td><td>101.12</td><td> 87.11</td><td> 1    </td><td>50.1  </td><td>105.57</td><td>102.32</td><td>1.92  </td><td>0     </td><td>1.92  </td></tr>\n",
       "\t<tr><td>101309</td><td>S500  </td><td>Q06   </td><td>M     </td><td>26-30 </td><td>29    </td><td> 5    </td><td>1     </td><td>1     </td><td>2     </td><td>...   </td><td>5.2   </td><td>122.25</td><td>110.45</td><td> 0    </td><td>38.6  </td><td>106.39</td><td>104.39</td><td>1.80  </td><td>0     </td><td>1.80  </td></tr>\n",
       "\t<tr><td>101410</td><td>S500  </td><td>Q06   </td><td>M     </td><td>26-30 </td><td>29    </td><td> 8    </td><td>1     </td><td>2     </td><td>2     </td><td>...   </td><td>6.8   </td><td>122.25</td><td>111.41</td><td> 3    </td><td>50.1  </td><td> 73.86</td><td> 71.78</td><td>1.80  </td><td>0     </td><td>1.80  </td></tr>\n",
       "\t<tr><td>101612</td><td>S900  </td><td>Q11   </td><td>F     </td><td>26-30 </td><td>28    </td><td> 4    </td><td>1     </td><td>1     </td><td>0     </td><td>...   </td><td>4.4   </td><td>122.25</td><td>111.41</td><td> 2    </td><td>48.7  </td><td> 97.26</td><td> 96.41</td><td>1.84  </td><td>0     </td><td>1.84  </td></tr>\n",
       "\t<tr><td>101915</td><td>Q3    </td><td>Q04   </td><td>F     </td><td>31-35 </td><td>29    </td><td> 6    </td><td>1     </td><td>1     </td><td>1     </td><td>...   </td><td>4.4   </td><td> 96.87</td><td> 77.61</td><td> 0    </td><td>38.6  </td><td>112.11</td><td>111.70</td><td>1.84  </td><td>1     </td><td>1.80  </td></tr>\n",
       "\t<tr><td>102008</td><td>S500  </td><td>Q06   </td><td>M     </td><td>22-25 </td><td>30    </td><td> 3    </td><td>1     </td><td>1     </td><td>0     </td><td>...   </td><td>6.0   </td><td>122.25</td><td>110.45</td><td> 0    </td><td>50.1  </td><td> 67.48</td><td> 65.31</td><td>1.80  </td><td>0     </td><td>1.80  </td></tr>\n",
       "\t<tr><td>102109</td><td>S1200 </td><td>Q13   </td><td>M     </td><td>26-30 </td><td>29    </td><td> 3    </td><td>0     </td><td>1     </td><td>0     </td><td>...   </td><td>3.6   </td><td>108.79</td><td> 97.19</td><td> 1    </td><td>50.1  </td><td> 90.63</td><td> 88.99</td><td>1.80  </td><td>1     </td><td>1.76  </td></tr>\n",
       "\t<tr><td>102311</td><td>S500  </td><td>Q06   </td><td>F     </td><td>26-30 </td><td>30    </td><td> 4    </td><td>0     </td><td>1     </td><td>1     </td><td>...   </td><td>4.4   </td><td>122.25</td><td>110.45</td><td> 1    </td><td>52.2  </td><td> 98.31</td><td> 99.06</td><td>1.80  </td><td>0     </td><td>1.80  </td></tr>\n",
       "\t<tr><td>102513</td><td>S900  </td><td>Q10   </td><td>M     </td><td>26-30 </td><td>29    </td><td> 1    </td><td>1     </td><td>0     </td><td>0     </td><td>...   </td><td>5.2   </td><td>108.79</td><td> 98.04</td><td> 2    </td><td>54.3  </td><td> 84.07</td><td> 82.37</td><td>1.92  </td><td>0     </td><td>1.92  </td></tr>\n",
       "\t<tr><td>102614</td><td>S1200 </td><td>Q12   </td><td>M     </td><td>22-25 </td><td>29    </td><td> 5    </td><td>1     </td><td>0     </td><td>2     </td><td>...   </td><td>3.6   </td><td> 96.87</td><td> 77.12</td><td> 0    </td><td>38.6  </td><td> 79.67</td><td> 78.91</td><td>1.80  </td><td>1     </td><td>1.76  </td></tr>\n",
       "\t<tr><td>102715</td><td>S1200 </td><td>Q12   </td><td>M     </td><td>26-30 </td><td>29    </td><td> 0    </td><td>0     </td><td>0     </td><td>0     </td><td>...   </td><td>5.2   </td><td> 93.38</td><td> 69.88</td><td> 1    </td><td>38.6  </td><td> 86.03</td><td> 86.60</td><td>1.84  </td><td>0     </td><td>1.84  </td></tr>\n",
       "\t<tr><td>102816</td><td>Q3    </td><td>Q03   </td><td>F     </td><td>26-30 </td><td>29    </td><td> 8    </td><td>1     </td><td>2     </td><td>1     </td><td>...   </td><td>5.2   </td><td>122.25</td><td>111.41</td><td> 1    </td><td>52.6  </td><td> 98.31</td><td> 97.68</td><td>1.72  </td><td>1     </td><td>1.68  </td></tr>\n",
       "\t<tr><td>103010</td><td>S1200 </td><td>Q12   </td><td>M     </td><td>22-25 </td><td>28    </td><td>10    </td><td>1     </td><td>1     </td><td>3     </td><td>...   </td><td>5.2   </td><td>101.12</td><td> 86.45</td><td> 7    </td><td>38.6  </td><td>103.37</td><td>102.15</td><td>1.84  </td><td>0     </td><td>1.84  </td></tr>\n",
       "\t<tr><td>103111</td><td>S500  </td><td>Q06   </td><td>M     </td><td>26-30 </td><td>26    </td><td>10    </td><td>1     </td><td>3     </td><td>2     </td><td>...   </td><td>6.8   </td><td>122.25</td><td>111.41</td><td> 1    </td><td>47.1  </td><td>109.15</td><td>107.30</td><td>1.80  </td><td>0     </td><td>1.80  </td></tr>\n",
       "\t<tr><td>103212</td><td>S1200 </td><td>Q13   </td><td>M     </td><td>31-35 </td><td>26    </td><td> 5    </td><td>1     </td><td>1     </td><td>1     </td><td>...   </td><td>8.4   </td><td>101.12</td><td> 87.11</td><td> 1    </td><td>49.7  </td><td> 72.63</td><td> 70.67</td><td>1.80  </td><td>1     </td><td>1.76  </td></tr>\n",
       "\t<tr><td>103414</td><td>Q2    </td><td>Q02   </td><td>F     </td><td>22-25 </td><td>29    </td><td> 9    </td><td>1     </td><td>1     </td><td>2     </td><td>...   </td><td>4.4   </td><td>108.79</td><td> 97.19</td><td> 0    </td><td>38.6  </td><td> 91.50</td><td> 89.45</td><td>1.76  </td><td>0     </td><td>1.76  </td></tr>\n",
       "\t<tr><td>103515</td><td>Q1    </td><td>Q02   </td><td>F     </td><td>26-30 </td><td>27    </td><td>11    </td><td>3     </td><td>2     </td><td>3     </td><td>...   </td><td>6.0   </td><td> 96.87</td><td> 77.12</td><td>10    </td><td>58.7  </td><td>126.51</td><td>128.53</td><td>1.88  </td><td>1     </td><td>1.84  </td></tr>\n",
       "\t<tr><td>103818</td><td>Q1    </td><td>Q01   </td><td>F     </td><td>31-35 </td><td>28    </td><td> 5    </td><td>1     </td><td>1     </td><td>1     </td><td>...   </td><td>4.4   </td><td>108.79</td><td> 98.04</td><td> 0    </td><td>38.6  </td><td> 90.63</td><td> 87.88</td><td>1.88  </td><td>1     </td><td>1.84  </td></tr>\n",
       "\t<tr><td>104012</td><td>MEG2  </td><td>Q07   </td><td>F     </td><td>26-30 </td><td>27    </td><td> 4    </td><td>1     </td><td>1     </td><td>0     </td><td>...   </td><td>6.0   </td><td>122.25</td><td>110.45</td><td> 2    </td><td>50.1  </td><td> 78.02</td><td> 77.40</td><td>1.80  </td><td>0     </td><td>1.80  </td></tr>\n",
       "\t<tr><td>104113</td><td>S900  </td><td>Q09   </td><td>M     </td><td>26-30 </td><td>27    </td><td> 2    </td><td>0     </td><td>1     </td><td>0     </td><td>...   </td><td>6.0   </td><td> 96.87</td><td> 77.12</td><td> 0    </td><td>38.6  </td><td> 84.84</td><td> 85.31</td><td>1.84  </td><td>2     </td><td>1.76  </td></tr>\n",
       "\t<tr><td>104416</td><td>S900  </td><td>Q09   </td><td>F     </td><td>31-35 </td><td>30    </td><td> 0    </td><td>0     </td><td>0     </td><td>0     </td><td>...   </td><td>2.8   </td><td>101.12</td><td> 87.11</td><td> 0    </td><td>38.6  </td><td> 95.36</td><td> 93.48</td><td>1.92  </td><td>1     </td><td>1.88  </td></tr>\n",
       "\t<tr><td>104820</td><td>S500  </td><td>Q06   </td><td>F     </td><td>36+   </td><td>27    </td><td> 3    </td><td>1     </td><td>1     </td><td>0     </td><td>...   </td><td>5.2   </td><td>108.79</td><td> 98.04</td><td> 0    </td><td>38.6  </td><td>123.80</td><td>123.31</td><td>1.80  </td><td>0     </td><td>1.80  </td></tr>\n",
       "\t<tr><td>105014</td><td>S500  </td><td>Q05   </td><td>F     </td><td>26-30 </td><td>30    </td><td> 1    </td><td>1     </td><td>0     </td><td>0     </td><td>...   </td><td>3.6   </td><td>108.79</td><td> 97.19</td><td> 0    </td><td>38.6  </td><td> 73.86</td><td> 72.70</td><td>1.80  </td><td>0     </td><td>1.80  </td></tr>\n",
       "\t<tr><td>...</td><td>...</td><td>...</td><td>...</td><td>...</td><td>...</td><td>...</td><td>...</td><td>...</td><td>...</td><td>   </td><td>...</td><td>...</td><td>...</td><td>...</td><td>...</td><td>...</td><td>...</td><td>...</td><td>...</td><td>...</td></tr>\n",
       "\t<tr><td>953764</td><td>S900  </td><td>Q10   </td><td>F     </td><td>31-35 </td><td>30    </td><td>5     </td><td>1     </td><td>1     </td><td>1     </td><td>...   </td><td>4.4   </td><td>101.12</td><td> 87.11</td><td>0     </td><td>38.6  </td><td> 96.87</td><td> 95.48</td><td>1.84  </td><td>0     </td><td>1.84  </td></tr>\n",
       "\t<tr><td>955465</td><td>S900  </td><td>Q08   </td><td>M     </td><td>26-30 </td><td>29    </td><td>2     </td><td>0     </td><td>1     </td><td>0     </td><td>...   </td><td>0.4   </td><td>122.25</td><td>110.45</td><td>1     </td><td>48.7  </td><td> 84.84</td><td> 85.31</td><td>1.80  </td><td>0     </td><td>1.80  </td></tr>\n",
       "\t<tr><td>957974</td><td>S500  </td><td>Q04   </td><td>F     </td><td>26-30 </td><td>30    </td><td>4     </td><td>1     </td><td>0     </td><td>1     </td><td>...   </td><td>2.8   </td><td>108.79</td><td> 97.19</td><td>2     </td><td>38.6  </td><td> 78.78</td><td> 78.13</td><td>1.80  </td><td>0     </td><td>1.80  </td></tr>\n",
       "\t<tr><td>958976</td><td>S500  </td><td>Q05   </td><td>M     </td><td>26-30 </td><td>29    </td><td>3     </td><td>1     </td><td>1     </td><td>0     </td><td>...   </td><td>5.2   </td><td>101.12</td><td> 86.45</td><td>0     </td><td>44.1  </td><td> 77.47</td><td> 76.79</td><td>1.92  </td><td>0     </td><td>1.92  </td></tr>\n",
       "\t<tr><td>959069</td><td>S1200 </td><td>Q04   </td><td>M     </td><td>31-35 </td><td>30    </td><td>2     </td><td>1     </td><td>0     </td><td>0     </td><td>...   </td><td>3.6   </td><td>108.79</td><td> 98.04</td><td>2     </td><td>50.1  </td><td> 72.63</td><td> 70.67</td><td>1.80  </td><td>0     </td><td>1.80  </td></tr>\n",
       "\t<tr><td>959574</td><td>Q3    </td><td>Q03   </td><td>F     </td><td>26-30 </td><td>30    </td><td>3     </td><td>1     </td><td>0     </td><td>0     </td><td>...   </td><td>3.6   </td><td>122.25</td><td>110.45</td><td>0     </td><td>44.1  </td><td> 97.69</td><td> 98.31</td><td>1.72  </td><td>0     </td><td>1.72  </td></tr>\n",
       "\t<tr><td>962058</td><td>S1200 </td><td>Q08   </td><td>M     </td><td>26-30 </td><td>28    </td><td>6     </td><td>1     </td><td>1     </td><td>0     </td><td>...   </td><td>5.2   </td><td>101.12</td><td> 86.45</td><td>0     </td><td>49.7  </td><td> 76.93</td><td> 75.97</td><td>1.84  </td><td>2     </td><td>1.76  </td></tr>\n",
       "\t<tr><td>965367</td><td>S500  </td><td>Q07   </td><td>M     </td><td>31-35 </td><td>27    </td><td>7     </td><td>1     </td><td>1     </td><td>1     </td><td>...   </td><td>6.8   </td><td>101.12</td><td> 87.11</td><td>0     </td><td>38.6  </td><td>109.56</td><td>108.04</td><td>1.92  </td><td>0     </td><td>1.92  </td></tr>\n",
       "\t<tr><td>965771</td><td>S500  </td><td>Q05   </td><td>M     </td><td>31-35 </td><td>27    </td><td>3     </td><td>1     </td><td>0     </td><td>1     </td><td>...   </td><td>5.2   </td><td>101.12</td><td> 87.11</td><td>3     </td><td>54.3  </td><td>107.17</td><td>103.55</td><td>1.80  </td><td>0     </td><td>1.80  </td></tr>\n",
       "\t<tr><td>966975</td><td>S900  </td><td>Q12   </td><td>M     </td><td>22-25 </td><td>28    </td><td>1     </td><td>0     </td><td>0     </td><td>0     </td><td>...   </td><td>3.6   </td><td>122.25</td><td>110.45</td><td>0     </td><td>38.6  </td><td> 84.07</td><td> 84.25</td><td>1.80  </td><td>0     </td><td>1.80  </td></tr>\n",
       "\t<tr><td>969476</td><td>S1200 </td><td>Q12   </td><td>M     </td><td>31-35 </td><td>29    </td><td>4     </td><td>1     </td><td>1     </td><td>0     </td><td>...   </td><td>6.8   </td><td>101.12</td><td> 87.11</td><td>1     </td><td>56.0  </td><td> 72.63</td><td> 70.67</td><td>1.80  </td><td>0     </td><td>1.80  </td></tr>\n",
       "\t<tr><td>970764</td><td>S1200 </td><td>Q09   </td><td>F     </td><td>22-25 </td><td>30    </td><td>3     </td><td>1     </td><td>1     </td><td>0     </td><td>...   </td><td>3.6   </td><td>108.79</td><td> 97.19</td><td>1     </td><td>54.6  </td><td> 97.26</td><td> 97.63</td><td>1.80  </td><td>2     </td><td>1.72  </td></tr>\n",
       "\t<tr><td>971160</td><td>S1200 </td><td>Q10   </td><td>M     </td><td>26-30 </td><td>30    </td><td>3     </td><td>1     </td><td>0     </td><td>0     </td><td>...   </td><td>6.0   </td><td> 96.87</td><td> 77.12</td><td>0     </td><td>38.6  </td><td> 84.84</td><td> 85.31</td><td>1.94  </td><td>1     </td><td>1.90  </td></tr>\n",
       "\t<tr><td>972566</td><td>S900  </td><td>Q11   </td><td>F     </td><td>31-35 </td><td>27    </td><td>7     </td><td>3     </td><td>0     </td><td>3     </td><td>...   </td><td>2.8   </td><td>101.12</td><td> 87.11</td><td>2     </td><td>50.1  </td><td> 73.86</td><td> 71.78</td><td>1.92  </td><td>0     </td><td>1.92  </td></tr>\n",
       "\t<tr><td>973770</td><td>S1200 </td><td>Q13   </td><td>M     </td><td>22-25 </td><td>28    </td><td>5     </td><td>1     </td><td>1     </td><td>2     </td><td>...   </td><td>5.2   </td><td>108.79</td><td> 97.19</td><td>0     </td><td>51.9  </td><td>126.51</td><td>128.53</td><td>1.92  </td><td>0     </td><td>1.92  </td></tr>\n",
       "\t<tr><td>978578</td><td>Q3    </td><td>Q04   </td><td>F     </td><td>31-35 </td><td>30    </td><td>4     </td><td>1     </td><td>1     </td><td>0     </td><td>...   </td><td>3.6   </td><td>122.25</td><td>111.41</td><td>0     </td><td>38.6  </td><td> 80.52</td><td> 78.21</td><td>1.72  </td><td>1     </td><td>1.68  </td></tr>\n",
       "\t<tr><td>979984</td><td>S500  </td><td>Q07   </td><td>F     </td><td>31-35 </td><td>30    </td><td>8     </td><td>2     </td><td>2     </td><td>0     </td><td>...   </td><td>4.4   </td><td>122.25</td><td>111.41</td><td>5     </td><td>54.3  </td><td> 86.03</td><td> 84.40</td><td>1.76  </td><td>0     </td><td>1.76  </td></tr>\n",
       "\t<tr><td>983773</td><td>S500  </td><td>Q05   </td><td>M     </td><td>26-30 </td><td>30    </td><td>5     </td><td>1     </td><td>1     </td><td>0     </td><td>...   </td><td>3.6   </td><td>108.79</td><td> 97.19</td><td>2     </td><td>52.6  </td><td> 92.84</td><td> 91.14</td><td>1.80  </td><td>0     </td><td>1.80  </td></tr>\n",
       "\t<tr><td>984472</td><td>Q2    </td><td>Q02   </td><td>F     </td><td>26-30 </td><td>30    </td><td>5     </td><td>1     </td><td>1     </td><td>1     </td><td>...   </td><td>2.8   </td><td>122.25</td><td>110.45</td><td>0     </td><td>38.6  </td><td>108.73</td><td>108.00</td><td>1.76  </td><td>0     </td><td>1.76  </td></tr>\n",
       "\t<tr><td>987074</td><td>S1200 </td><td>Q10   </td><td>M     </td><td>22-25 </td><td>30    </td><td>6     </td><td>1     </td><td>2     </td><td>0     </td><td>...   </td><td>3.6   </td><td>101.12</td><td> 86.45</td><td>0     </td><td>38.6  </td><td>101.63</td><td>101.22</td><td>1.92  </td><td>0     </td><td>1.92  </td></tr>\n",
       "\t<tr><td>987983</td><td>S500  </td><td>Q04   </td><td>F     </td><td>26-30 </td><td>30    </td><td>3     </td><td>1     </td><td>1     </td><td>0     </td><td>...   </td><td>5.2   </td><td>108.79</td><td> 97.19</td><td>5     </td><td>56.4  </td><td> 88.02</td><td> 87.70</td><td>1.88  </td><td>0     </td><td>1.88  </td></tr>\n",
       "\t<tr><td>989987</td><td>S1200 </td><td>Q13   </td><td>M     </td><td>31-35 </td><td>29    </td><td>4     </td><td>1     </td><td>0     </td><td>1     </td><td>...   </td><td>2.0   </td><td>101.12</td><td> 87.11</td><td>4     </td><td>52.6  </td><td> 98.31</td><td> 97.68</td><td>1.80  </td><td>0     </td><td>1.80  </td></tr>\n",
       "\t<tr><td>990366</td><td>S900  </td><td>Q10   </td><td>M     </td><td>22-25 </td><td>28    </td><td>4     </td><td>1     </td><td>1     </td><td>0     </td><td>...   </td><td>4.4   </td><td>108.79</td><td> 97.19</td><td>1     </td><td>52.6  </td><td> 93.82</td><td> 92.63</td><td>1.80  </td><td>0     </td><td>1.80  </td></tr>\n",
       "\t<tr><td>991267</td><td>S500  </td><td>Q06   </td><td>M     </td><td>26-30 </td><td>29    </td><td>5     </td><td>1     </td><td>1     </td><td>1     </td><td>...   </td><td>2.8   </td><td>122.25</td><td>111.41</td><td>1     </td><td>46.6  </td><td> 83.23</td><td> 81.55</td><td>1.84  </td><td>0     </td><td>1.84  </td></tr>\n",
       "\t<tr><td>992673</td><td>S900  </td><td>Q12   </td><td>F     </td><td>31-35 </td><td>30    </td><td>0     </td><td>0     </td><td>0     </td><td>0     </td><td>...   </td><td>3.6   </td><td>122.25</td><td>111.41</td><td>1     </td><td>38.6  </td><td>101.63</td><td> 99.26</td><td>1.80  </td><td>0     </td><td>1.80  </td></tr>\n",
       "\t<tr><td>992774</td><td>Q2    </td><td>Q02   </td><td>M     </td><td>31-35 </td><td>30    </td><td>2     </td><td>0     </td><td>1     </td><td>0     </td><td>...   </td><td>8.4   </td><td>122.25</td><td>111.41</td><td>4     </td><td>50.1  </td><td>107.17</td><td>103.55</td><td>1.76  </td><td>0     </td><td>1.76  </td></tr>\n",
       "\t<tr><td>993675</td><td>S900  </td><td>Q09   </td><td>F     </td><td>26-30 </td><td>30    </td><td>4     </td><td>1     </td><td>1     </td><td>1     </td><td>...   </td><td>0.4   </td><td>122.25</td><td>110.45</td><td>0     </td><td>38.6  </td><td> 84.07</td><td> 84.25</td><td>1.80  </td><td>1     </td><td>1.76  </td></tr>\n",
       "\t<tr><td>994273</td><td>S500  </td><td>Q06   </td><td>M     </td><td>26-30 </td><td>28    </td><td>8     </td><td>1     </td><td>1     </td><td>0     </td><td>...   </td><td>6.0   </td><td>122.25</td><td>111.41</td><td>7     </td><td>63.8  </td><td>110.65</td><td>109.73</td><td>1.80  </td><td>1     </td><td>1.76  </td></tr>\n",
       "\t<tr><td>995174</td><td>S1200 </td><td>Q13   </td><td>M     </td><td>22-25 </td><td>26    </td><td>7     </td><td>1     </td><td>2     </td><td>0     </td><td>...   </td><td>3.6   </td><td> 88.61</td><td> 64.58</td><td>3     </td><td>50.1  </td><td>117.16</td><td>117.40</td><td>1.80  </td><td>0     </td><td>1.80  </td></tr>\n",
       "\t<tr><td>996782</td><td>S900  </td><td>Q08   </td><td>F     </td><td>26-30 </td><td>30    </td><td>4     </td><td>1     </td><td>1     </td><td>1     </td><td>...   </td><td>6.0   </td><td>108.79</td><td> 97.19</td><td>0     </td><td>38.6  </td><td> 75.43</td><td> 73.72</td><td>1.84  </td><td>0     </td><td>1.84  </td></tr>\n",
       "</tbody>\n",
       "</table>\n"
      ],
      "text/latex": [
       "\\begin{tabular}{r|llllllllllllllllllllllllllllllllllllllllllllllllllllllllllllllllllllllllllllllllllllllllllllllllllllllllllllllllllllllllllllllllllllllllllllllllllllllllllllllllllllllllllllllllllllllllllllllllllllllllllllllllllllllllllllllllllllllllllllllllllllllllllllllllllllllllllllllllllllllllllllllllllllllllllllllllllllllllllllllllllllllllllllllllllllllllllllllllllllllllllllllllllllllllllllllllllllllllllllllllllllllllllllllllllllllllllllllllllllllllllllllllllllllllllllllllllllllllllllllllllllllllllllllllllll}\n",
       " Subject & Release & Acquisition & Gender & Age & MMSE\\_Score & PSQI\\_Score & PSQI\\_Comp1 & PSQI\\_Comp2 & PSQI\\_Comp3 & ... & Noise\\_Comp & Odor\\_Unadj & Odor\\_AgeAdj & PainIntens\\_RawScore & PainInterf\\_Tscore & Taste\\_Unadj & Taste\\_AgeAdj & Mars\\_Log\\_Score & Mars\\_Errs & Mars\\_Final\\\\\n",
       "\\hline\n",
       "\t 100004 & S900   & Q06    & M      & 22-25  & 29     &  8     & 1      & 2      & 2      & ...    & 5.2    & 101.12 &  86.45 &  2     & 45.9   & 107.17 & 105.31 & 1.80   & 0      & 1.80  \\\\\n",
       "\t 100206 & S900   & Q11    & M      & 26-30  & 30     &  6     & 1      & 1      & 1      & ...    & 6.0    & 108.79 &  97.19 &  1     & 49.7   &  72.63 &  72.03 & 1.84   & 0      & 1.84  \\\\\n",
       "\t 100307 & Q1     & Q01    & F      & 26-30  & 29     &  4     & 1      & 0      & 1      & ...    & 3.6    & 101.12 &  86.45 &  0     & 38.6   &  71.69 &  71.76 & 1.76   & 0      & 1.76  \\\\\n",
       "\t 100408 & Q3     & Q03    & M      & 31-35  & 30     &  4     & 1      & 1      & 0      & ...    & 2.0    & 108.79 &  98.04 &  2     & 52.6   & 114.01 & 113.59 & 1.76   & 2      & 1.68  \\\\\n",
       "\t 100610 & S900   & Q08    & M      & 26-30  & 30     &  4     & 1      & 1      & 0      & ...    & 2.0    & 122.25 & 110.45 &  0     & 38.6   &  84.84 &  85.31 & 1.92   & 1      & 1.88  \\\\\n",
       "\t 101006 & S500   & Q06    & F      & 31-35  & 28     &  2     & 1      & 1      & 0      & ...    & 6.0    & 122.25 & 111.41 &  0     & 38.6   & 123.80 & 123.31 & 1.80   & 0      & 1.80  \\\\\n",
       "\t 101107 & S500   & Q06    & M      & 22-25  & 29     &  9     & 1      & 1      & 3      & ...    & 6.8    & 108.79 &  97.19 &  1     & 50.1   & 134.65 & 131.38 & 1.84   & 0      & 1.84  \\\\\n",
       "\t 101208 & S1200  & Q12    & F      & 31-35  & 30     &  6     & 1      & 2      & 0      & ...    & 4.4    & 101.12 &  87.11 &  1     & 50.1   & 105.57 & 102.32 & 1.92   & 0      & 1.92  \\\\\n",
       "\t 101309 & S500   & Q06    & M      & 26-30  & 29     &  5     & 1      & 1      & 2      & ...    & 5.2    & 122.25 & 110.45 &  0     & 38.6   & 106.39 & 104.39 & 1.80   & 0      & 1.80  \\\\\n",
       "\t 101410 & S500   & Q06    & M      & 26-30  & 29     &  8     & 1      & 2      & 2      & ...    & 6.8    & 122.25 & 111.41 &  3     & 50.1   &  73.86 &  71.78 & 1.80   & 0      & 1.80  \\\\\n",
       "\t 101612 & S900   & Q11    & F      & 26-30  & 28     &  4     & 1      & 1      & 0      & ...    & 4.4    & 122.25 & 111.41 &  2     & 48.7   &  97.26 &  96.41 & 1.84   & 0      & 1.84  \\\\\n",
       "\t 101915 & Q3     & Q04    & F      & 31-35  & 29     &  6     & 1      & 1      & 1      & ...    & 4.4    &  96.87 &  77.61 &  0     & 38.6   & 112.11 & 111.70 & 1.84   & 1      & 1.80  \\\\\n",
       "\t 102008 & S500   & Q06    & M      & 22-25  & 30     &  3     & 1      & 1      & 0      & ...    & 6.0    & 122.25 & 110.45 &  0     & 50.1   &  67.48 &  65.31 & 1.80   & 0      & 1.80  \\\\\n",
       "\t 102109 & S1200  & Q13    & M      & 26-30  & 29     &  3     & 0      & 1      & 0      & ...    & 3.6    & 108.79 &  97.19 &  1     & 50.1   &  90.63 &  88.99 & 1.80   & 1      & 1.76  \\\\\n",
       "\t 102311 & S500   & Q06    & F      & 26-30  & 30     &  4     & 0      & 1      & 1      & ...    & 4.4    & 122.25 & 110.45 &  1     & 52.2   &  98.31 &  99.06 & 1.80   & 0      & 1.80  \\\\\n",
       "\t 102513 & S900   & Q10    & M      & 26-30  & 29     &  1     & 1      & 0      & 0      & ...    & 5.2    & 108.79 &  98.04 &  2     & 54.3   &  84.07 &  82.37 & 1.92   & 0      & 1.92  \\\\\n",
       "\t 102614 & S1200  & Q12    & M      & 22-25  & 29     &  5     & 1      & 0      & 2      & ...    & 3.6    &  96.87 &  77.12 &  0     & 38.6   &  79.67 &  78.91 & 1.80   & 1      & 1.76  \\\\\n",
       "\t 102715 & S1200  & Q12    & M      & 26-30  & 29     &  0     & 0      & 0      & 0      & ...    & 5.2    &  93.38 &  69.88 &  1     & 38.6   &  86.03 &  86.60 & 1.84   & 0      & 1.84  \\\\\n",
       "\t 102816 & Q3     & Q03    & F      & 26-30  & 29     &  8     & 1      & 2      & 1      & ...    & 5.2    & 122.25 & 111.41 &  1     & 52.6   &  98.31 &  97.68 & 1.72   & 1      & 1.68  \\\\\n",
       "\t 103010 & S1200  & Q12    & M      & 22-25  & 28     & 10     & 1      & 1      & 3      & ...    & 5.2    & 101.12 &  86.45 &  7     & 38.6   & 103.37 & 102.15 & 1.84   & 0      & 1.84  \\\\\n",
       "\t 103111 & S500   & Q06    & M      & 26-30  & 26     & 10     & 1      & 3      & 2      & ...    & 6.8    & 122.25 & 111.41 &  1     & 47.1   & 109.15 & 107.30 & 1.80   & 0      & 1.80  \\\\\n",
       "\t 103212 & S1200  & Q13    & M      & 31-35  & 26     &  5     & 1      & 1      & 1      & ...    & 8.4    & 101.12 &  87.11 &  1     & 49.7   &  72.63 &  70.67 & 1.80   & 1      & 1.76  \\\\\n",
       "\t 103414 & Q2     & Q02    & F      & 22-25  & 29     &  9     & 1      & 1      & 2      & ...    & 4.4    & 108.79 &  97.19 &  0     & 38.6   &  91.50 &  89.45 & 1.76   & 0      & 1.76  \\\\\n",
       "\t 103515 & Q1     & Q02    & F      & 26-30  & 27     & 11     & 3      & 2      & 3      & ...    & 6.0    &  96.87 &  77.12 & 10     & 58.7   & 126.51 & 128.53 & 1.88   & 1      & 1.84  \\\\\n",
       "\t 103818 & Q1     & Q01    & F      & 31-35  & 28     &  5     & 1      & 1      & 1      & ...    & 4.4    & 108.79 &  98.04 &  0     & 38.6   &  90.63 &  87.88 & 1.88   & 1      & 1.84  \\\\\n",
       "\t 104012 & MEG2   & Q07    & F      & 26-30  & 27     &  4     & 1      & 1      & 0      & ...    & 6.0    & 122.25 & 110.45 &  2     & 50.1   &  78.02 &  77.40 & 1.80   & 0      & 1.80  \\\\\n",
       "\t 104113 & S900   & Q09    & M      & 26-30  & 27     &  2     & 0      & 1      & 0      & ...    & 6.0    &  96.87 &  77.12 &  0     & 38.6   &  84.84 &  85.31 & 1.84   & 2      & 1.76  \\\\\n",
       "\t 104416 & S900   & Q09    & F      & 31-35  & 30     &  0     & 0      & 0      & 0      & ...    & 2.8    & 101.12 &  87.11 &  0     & 38.6   &  95.36 &  93.48 & 1.92   & 1      & 1.88  \\\\\n",
       "\t 104820 & S500   & Q06    & F      & 36+    & 27     &  3     & 1      & 1      & 0      & ...    & 5.2    & 108.79 &  98.04 &  0     & 38.6   & 123.80 & 123.31 & 1.80   & 0      & 1.80  \\\\\n",
       "\t 105014 & S500   & Q05    & F      & 26-30  & 30     &  1     & 1      & 0      & 0      & ...    & 3.6    & 108.79 &  97.19 &  0     & 38.6   &  73.86 &  72.70 & 1.80   & 0      & 1.80  \\\\\n",
       "\t ... & ... & ... & ... & ... & ... & ... & ... & ... & ... &     & ... & ... & ... & ... & ... & ... & ... & ... & ... & ...\\\\\n",
       "\t 953764 & S900   & Q10    & F      & 31-35  & 30     & 5      & 1      & 1      & 1      & ...    & 4.4    & 101.12 &  87.11 & 0      & 38.6   &  96.87 &  95.48 & 1.84   & 0      & 1.84  \\\\\n",
       "\t 955465 & S900   & Q08    & M      & 26-30  & 29     & 2      & 0      & 1      & 0      & ...    & 0.4    & 122.25 & 110.45 & 1      & 48.7   &  84.84 &  85.31 & 1.80   & 0      & 1.80  \\\\\n",
       "\t 957974 & S500   & Q04    & F      & 26-30  & 30     & 4      & 1      & 0      & 1      & ...    & 2.8    & 108.79 &  97.19 & 2      & 38.6   &  78.78 &  78.13 & 1.80   & 0      & 1.80  \\\\\n",
       "\t 958976 & S500   & Q05    & M      & 26-30  & 29     & 3      & 1      & 1      & 0      & ...    & 5.2    & 101.12 &  86.45 & 0      & 44.1   &  77.47 &  76.79 & 1.92   & 0      & 1.92  \\\\\n",
       "\t 959069 & S1200  & Q04    & M      & 31-35  & 30     & 2      & 1      & 0      & 0      & ...    & 3.6    & 108.79 &  98.04 & 2      & 50.1   &  72.63 &  70.67 & 1.80   & 0      & 1.80  \\\\\n",
       "\t 959574 & Q3     & Q03    & F      & 26-30  & 30     & 3      & 1      & 0      & 0      & ...    & 3.6    & 122.25 & 110.45 & 0      & 44.1   &  97.69 &  98.31 & 1.72   & 0      & 1.72  \\\\\n",
       "\t 962058 & S1200  & Q08    & M      & 26-30  & 28     & 6      & 1      & 1      & 0      & ...    & 5.2    & 101.12 &  86.45 & 0      & 49.7   &  76.93 &  75.97 & 1.84   & 2      & 1.76  \\\\\n",
       "\t 965367 & S500   & Q07    & M      & 31-35  & 27     & 7      & 1      & 1      & 1      & ...    & 6.8    & 101.12 &  87.11 & 0      & 38.6   & 109.56 & 108.04 & 1.92   & 0      & 1.92  \\\\\n",
       "\t 965771 & S500   & Q05    & M      & 31-35  & 27     & 3      & 1      & 0      & 1      & ...    & 5.2    & 101.12 &  87.11 & 3      & 54.3   & 107.17 & 103.55 & 1.80   & 0      & 1.80  \\\\\n",
       "\t 966975 & S900   & Q12    & M      & 22-25  & 28     & 1      & 0      & 0      & 0      & ...    & 3.6    & 122.25 & 110.45 & 0      & 38.6   &  84.07 &  84.25 & 1.80   & 0      & 1.80  \\\\\n",
       "\t 969476 & S1200  & Q12    & M      & 31-35  & 29     & 4      & 1      & 1      & 0      & ...    & 6.8    & 101.12 &  87.11 & 1      & 56.0   &  72.63 &  70.67 & 1.80   & 0      & 1.80  \\\\\n",
       "\t 970764 & S1200  & Q09    & F      & 22-25  & 30     & 3      & 1      & 1      & 0      & ...    & 3.6    & 108.79 &  97.19 & 1      & 54.6   &  97.26 &  97.63 & 1.80   & 2      & 1.72  \\\\\n",
       "\t 971160 & S1200  & Q10    & M      & 26-30  & 30     & 3      & 1      & 0      & 0      & ...    & 6.0    &  96.87 &  77.12 & 0      & 38.6   &  84.84 &  85.31 & 1.94   & 1      & 1.90  \\\\\n",
       "\t 972566 & S900   & Q11    & F      & 31-35  & 27     & 7      & 3      & 0      & 3      & ...    & 2.8    & 101.12 &  87.11 & 2      & 50.1   &  73.86 &  71.78 & 1.92   & 0      & 1.92  \\\\\n",
       "\t 973770 & S1200  & Q13    & M      & 22-25  & 28     & 5      & 1      & 1      & 2      & ...    & 5.2    & 108.79 &  97.19 & 0      & 51.9   & 126.51 & 128.53 & 1.92   & 0      & 1.92  \\\\\n",
       "\t 978578 & Q3     & Q04    & F      & 31-35  & 30     & 4      & 1      & 1      & 0      & ...    & 3.6    & 122.25 & 111.41 & 0      & 38.6   &  80.52 &  78.21 & 1.72   & 1      & 1.68  \\\\\n",
       "\t 979984 & S500   & Q07    & F      & 31-35  & 30     & 8      & 2      & 2      & 0      & ...    & 4.4    & 122.25 & 111.41 & 5      & 54.3   &  86.03 &  84.40 & 1.76   & 0      & 1.76  \\\\\n",
       "\t 983773 & S500   & Q05    & M      & 26-30  & 30     & 5      & 1      & 1      & 0      & ...    & 3.6    & 108.79 &  97.19 & 2      & 52.6   &  92.84 &  91.14 & 1.80   & 0      & 1.80  \\\\\n",
       "\t 984472 & Q2     & Q02    & F      & 26-30  & 30     & 5      & 1      & 1      & 1      & ...    & 2.8    & 122.25 & 110.45 & 0      & 38.6   & 108.73 & 108.00 & 1.76   & 0      & 1.76  \\\\\n",
       "\t 987074 & S1200  & Q10    & M      & 22-25  & 30     & 6      & 1      & 2      & 0      & ...    & 3.6    & 101.12 &  86.45 & 0      & 38.6   & 101.63 & 101.22 & 1.92   & 0      & 1.92  \\\\\n",
       "\t 987983 & S500   & Q04    & F      & 26-30  & 30     & 3      & 1      & 1      & 0      & ...    & 5.2    & 108.79 &  97.19 & 5      & 56.4   &  88.02 &  87.70 & 1.88   & 0      & 1.88  \\\\\n",
       "\t 989987 & S1200  & Q13    & M      & 31-35  & 29     & 4      & 1      & 0      & 1      & ...    & 2.0    & 101.12 &  87.11 & 4      & 52.6   &  98.31 &  97.68 & 1.80   & 0      & 1.80  \\\\\n",
       "\t 990366 & S900   & Q10    & M      & 22-25  & 28     & 4      & 1      & 1      & 0      & ...    & 4.4    & 108.79 &  97.19 & 1      & 52.6   &  93.82 &  92.63 & 1.80   & 0      & 1.80  \\\\\n",
       "\t 991267 & S500   & Q06    & M      & 26-30  & 29     & 5      & 1      & 1      & 1      & ...    & 2.8    & 122.25 & 111.41 & 1      & 46.6   &  83.23 &  81.55 & 1.84   & 0      & 1.84  \\\\\n",
       "\t 992673 & S900   & Q12    & F      & 31-35  & 30     & 0      & 0      & 0      & 0      & ...    & 3.6    & 122.25 & 111.41 & 1      & 38.6   & 101.63 &  99.26 & 1.80   & 0      & 1.80  \\\\\n",
       "\t 992774 & Q2     & Q02    & M      & 31-35  & 30     & 2      & 0      & 1      & 0      & ...    & 8.4    & 122.25 & 111.41 & 4      & 50.1   & 107.17 & 103.55 & 1.76   & 0      & 1.76  \\\\\n",
       "\t 993675 & S900   & Q09    & F      & 26-30  & 30     & 4      & 1      & 1      & 1      & ...    & 0.4    & 122.25 & 110.45 & 0      & 38.6   &  84.07 &  84.25 & 1.80   & 1      & 1.76  \\\\\n",
       "\t 994273 & S500   & Q06    & M      & 26-30  & 28     & 8      & 1      & 1      & 0      & ...    & 6.0    & 122.25 & 111.41 & 7      & 63.8   & 110.65 & 109.73 & 1.80   & 1      & 1.76  \\\\\n",
       "\t 995174 & S1200  & Q13    & M      & 22-25  & 26     & 7      & 1      & 2      & 0      & ...    & 3.6    &  88.61 &  64.58 & 3      & 50.1   & 117.16 & 117.40 & 1.80   & 0      & 1.80  \\\\\n",
       "\t 996782 & S900   & Q08    & F      & 26-30  & 30     & 4      & 1      & 1      & 1      & ...    & 6.0    & 108.79 &  97.19 & 0      & 38.6   &  75.43 &  73.72 & 1.84   & 0      & 1.84  \\\\\n",
       "\\end{tabular}\n"
      ],
      "text/markdown": [
       "\n",
       "| Subject | Release | Acquisition | Gender | Age | MMSE_Score | PSQI_Score | PSQI_Comp1 | PSQI_Comp2 | PSQI_Comp3 | ... | Noise_Comp | Odor_Unadj | Odor_AgeAdj | PainIntens_RawScore | PainInterf_Tscore | Taste_Unadj | Taste_AgeAdj | Mars_Log_Score | Mars_Errs | Mars_Final |\n",
       "|---|---|---|---|---|---|---|---|---|---|---|---|---|---|---|---|---|---|---|---|---|\n",
       "| 100004 | S900   | Q06    | M      | 22-25  | 29     |  8     | 1      | 2      | 2      | ...    | 5.2    | 101.12 |  86.45 |  2     | 45.9   | 107.17 | 105.31 | 1.80   | 0      | 1.80   |\n",
       "| 100206 | S900   | Q11    | M      | 26-30  | 30     |  6     | 1      | 1      | 1      | ...    | 6.0    | 108.79 |  97.19 |  1     | 49.7   |  72.63 |  72.03 | 1.84   | 0      | 1.84   |\n",
       "| 100307 | Q1     | Q01    | F      | 26-30  | 29     |  4     | 1      | 0      | 1      | ...    | 3.6    | 101.12 |  86.45 |  0     | 38.6   |  71.69 |  71.76 | 1.76   | 0      | 1.76   |\n",
       "| 100408 | Q3     | Q03    | M      | 31-35  | 30     |  4     | 1      | 1      | 0      | ...    | 2.0    | 108.79 |  98.04 |  2     | 52.6   | 114.01 | 113.59 | 1.76   | 2      | 1.68   |\n",
       "| 100610 | S900   | Q08    | M      | 26-30  | 30     |  4     | 1      | 1      | 0      | ...    | 2.0    | 122.25 | 110.45 |  0     | 38.6   |  84.84 |  85.31 | 1.92   | 1      | 1.88   |\n",
       "| 101006 | S500   | Q06    | F      | 31-35  | 28     |  2     | 1      | 1      | 0      | ...    | 6.0    | 122.25 | 111.41 |  0     | 38.6   | 123.80 | 123.31 | 1.80   | 0      | 1.80   |\n",
       "| 101107 | S500   | Q06    | M      | 22-25  | 29     |  9     | 1      | 1      | 3      | ...    | 6.8    | 108.79 |  97.19 |  1     | 50.1   | 134.65 | 131.38 | 1.84   | 0      | 1.84   |\n",
       "| 101208 | S1200  | Q12    | F      | 31-35  | 30     |  6     | 1      | 2      | 0      | ...    | 4.4    | 101.12 |  87.11 |  1     | 50.1   | 105.57 | 102.32 | 1.92   | 0      | 1.92   |\n",
       "| 101309 | S500   | Q06    | M      | 26-30  | 29     |  5     | 1      | 1      | 2      | ...    | 5.2    | 122.25 | 110.45 |  0     | 38.6   | 106.39 | 104.39 | 1.80   | 0      | 1.80   |\n",
       "| 101410 | S500   | Q06    | M      | 26-30  | 29     |  8     | 1      | 2      | 2      | ...    | 6.8    | 122.25 | 111.41 |  3     | 50.1   |  73.86 |  71.78 | 1.80   | 0      | 1.80   |\n",
       "| 101612 | S900   | Q11    | F      | 26-30  | 28     |  4     | 1      | 1      | 0      | ...    | 4.4    | 122.25 | 111.41 |  2     | 48.7   |  97.26 |  96.41 | 1.84   | 0      | 1.84   |\n",
       "| 101915 | Q3     | Q04    | F      | 31-35  | 29     |  6     | 1      | 1      | 1      | ...    | 4.4    |  96.87 |  77.61 |  0     | 38.6   | 112.11 | 111.70 | 1.84   | 1      | 1.80   |\n",
       "| 102008 | S500   | Q06    | M      | 22-25  | 30     |  3     | 1      | 1      | 0      | ...    | 6.0    | 122.25 | 110.45 |  0     | 50.1   |  67.48 |  65.31 | 1.80   | 0      | 1.80   |\n",
       "| 102109 | S1200  | Q13    | M      | 26-30  | 29     |  3     | 0      | 1      | 0      | ...    | 3.6    | 108.79 |  97.19 |  1     | 50.1   |  90.63 |  88.99 | 1.80   | 1      | 1.76   |\n",
       "| 102311 | S500   | Q06    | F      | 26-30  | 30     |  4     | 0      | 1      | 1      | ...    | 4.4    | 122.25 | 110.45 |  1     | 52.2   |  98.31 |  99.06 | 1.80   | 0      | 1.80   |\n",
       "| 102513 | S900   | Q10    | M      | 26-30  | 29     |  1     | 1      | 0      | 0      | ...    | 5.2    | 108.79 |  98.04 |  2     | 54.3   |  84.07 |  82.37 | 1.92   | 0      | 1.92   |\n",
       "| 102614 | S1200  | Q12    | M      | 22-25  | 29     |  5     | 1      | 0      | 2      | ...    | 3.6    |  96.87 |  77.12 |  0     | 38.6   |  79.67 |  78.91 | 1.80   | 1      | 1.76   |\n",
       "| 102715 | S1200  | Q12    | M      | 26-30  | 29     |  0     | 0      | 0      | 0      | ...    | 5.2    |  93.38 |  69.88 |  1     | 38.6   |  86.03 |  86.60 | 1.84   | 0      | 1.84   |\n",
       "| 102816 | Q3     | Q03    | F      | 26-30  | 29     |  8     | 1      | 2      | 1      | ...    | 5.2    | 122.25 | 111.41 |  1     | 52.6   |  98.31 |  97.68 | 1.72   | 1      | 1.68   |\n",
       "| 103010 | S1200  | Q12    | M      | 22-25  | 28     | 10     | 1      | 1      | 3      | ...    | 5.2    | 101.12 |  86.45 |  7     | 38.6   | 103.37 | 102.15 | 1.84   | 0      | 1.84   |\n",
       "| 103111 | S500   | Q06    | M      | 26-30  | 26     | 10     | 1      | 3      | 2      | ...    | 6.8    | 122.25 | 111.41 |  1     | 47.1   | 109.15 | 107.30 | 1.80   | 0      | 1.80   |\n",
       "| 103212 | S1200  | Q13    | M      | 31-35  | 26     |  5     | 1      | 1      | 1      | ...    | 8.4    | 101.12 |  87.11 |  1     | 49.7   |  72.63 |  70.67 | 1.80   | 1      | 1.76   |\n",
       "| 103414 | Q2     | Q02    | F      | 22-25  | 29     |  9     | 1      | 1      | 2      | ...    | 4.4    | 108.79 |  97.19 |  0     | 38.6   |  91.50 |  89.45 | 1.76   | 0      | 1.76   |\n",
       "| 103515 | Q1     | Q02    | F      | 26-30  | 27     | 11     | 3      | 2      | 3      | ...    | 6.0    |  96.87 |  77.12 | 10     | 58.7   | 126.51 | 128.53 | 1.88   | 1      | 1.84   |\n",
       "| 103818 | Q1     | Q01    | F      | 31-35  | 28     |  5     | 1      | 1      | 1      | ...    | 4.4    | 108.79 |  98.04 |  0     | 38.6   |  90.63 |  87.88 | 1.88   | 1      | 1.84   |\n",
       "| 104012 | MEG2   | Q07    | F      | 26-30  | 27     |  4     | 1      | 1      | 0      | ...    | 6.0    | 122.25 | 110.45 |  2     | 50.1   |  78.02 |  77.40 | 1.80   | 0      | 1.80   |\n",
       "| 104113 | S900   | Q09    | M      | 26-30  | 27     |  2     | 0      | 1      | 0      | ...    | 6.0    |  96.87 |  77.12 |  0     | 38.6   |  84.84 |  85.31 | 1.84   | 2      | 1.76   |\n",
       "| 104416 | S900   | Q09    | F      | 31-35  | 30     |  0     | 0      | 0      | 0      | ...    | 2.8    | 101.12 |  87.11 |  0     | 38.6   |  95.36 |  93.48 | 1.92   | 1      | 1.88   |\n",
       "| 104820 | S500   | Q06    | F      | 36+    | 27     |  3     | 1      | 1      | 0      | ...    | 5.2    | 108.79 |  98.04 |  0     | 38.6   | 123.80 | 123.31 | 1.80   | 0      | 1.80   |\n",
       "| 105014 | S500   | Q05    | F      | 26-30  | 30     |  1     | 1      | 0      | 0      | ...    | 3.6    | 108.79 |  97.19 |  0     | 38.6   |  73.86 |  72.70 | 1.80   | 0      | 1.80   |\n",
       "| ... | ... | ... | ... | ... | ... | ... | ... | ... | ... |     | ... | ... | ... | ... | ... | ... | ... | ... | ... | ... |\n",
       "| 953764 | S900   | Q10    | F      | 31-35  | 30     | 5      | 1      | 1      | 1      | ...    | 4.4    | 101.12 |  87.11 | 0      | 38.6   |  96.87 |  95.48 | 1.84   | 0      | 1.84   |\n",
       "| 955465 | S900   | Q08    | M      | 26-30  | 29     | 2      | 0      | 1      | 0      | ...    | 0.4    | 122.25 | 110.45 | 1      | 48.7   |  84.84 |  85.31 | 1.80   | 0      | 1.80   |\n",
       "| 957974 | S500   | Q04    | F      | 26-30  | 30     | 4      | 1      | 0      | 1      | ...    | 2.8    | 108.79 |  97.19 | 2      | 38.6   |  78.78 |  78.13 | 1.80   | 0      | 1.80   |\n",
       "| 958976 | S500   | Q05    | M      | 26-30  | 29     | 3      | 1      | 1      | 0      | ...    | 5.2    | 101.12 |  86.45 | 0      | 44.1   |  77.47 |  76.79 | 1.92   | 0      | 1.92   |\n",
       "| 959069 | S1200  | Q04    | M      | 31-35  | 30     | 2      | 1      | 0      | 0      | ...    | 3.6    | 108.79 |  98.04 | 2      | 50.1   |  72.63 |  70.67 | 1.80   | 0      | 1.80   |\n",
       "| 959574 | Q3     | Q03    | F      | 26-30  | 30     | 3      | 1      | 0      | 0      | ...    | 3.6    | 122.25 | 110.45 | 0      | 44.1   |  97.69 |  98.31 | 1.72   | 0      | 1.72   |\n",
       "| 962058 | S1200  | Q08    | M      | 26-30  | 28     | 6      | 1      | 1      | 0      | ...    | 5.2    | 101.12 |  86.45 | 0      | 49.7   |  76.93 |  75.97 | 1.84   | 2      | 1.76   |\n",
       "| 965367 | S500   | Q07    | M      | 31-35  | 27     | 7      | 1      | 1      | 1      | ...    | 6.8    | 101.12 |  87.11 | 0      | 38.6   | 109.56 | 108.04 | 1.92   | 0      | 1.92   |\n",
       "| 965771 | S500   | Q05    | M      | 31-35  | 27     | 3      | 1      | 0      | 1      | ...    | 5.2    | 101.12 |  87.11 | 3      | 54.3   | 107.17 | 103.55 | 1.80   | 0      | 1.80   |\n",
       "| 966975 | S900   | Q12    | M      | 22-25  | 28     | 1      | 0      | 0      | 0      | ...    | 3.6    | 122.25 | 110.45 | 0      | 38.6   |  84.07 |  84.25 | 1.80   | 0      | 1.80   |\n",
       "| 969476 | S1200  | Q12    | M      | 31-35  | 29     | 4      | 1      | 1      | 0      | ...    | 6.8    | 101.12 |  87.11 | 1      | 56.0   |  72.63 |  70.67 | 1.80   | 0      | 1.80   |\n",
       "| 970764 | S1200  | Q09    | F      | 22-25  | 30     | 3      | 1      | 1      | 0      | ...    | 3.6    | 108.79 |  97.19 | 1      | 54.6   |  97.26 |  97.63 | 1.80   | 2      | 1.72   |\n",
       "| 971160 | S1200  | Q10    | M      | 26-30  | 30     | 3      | 1      | 0      | 0      | ...    | 6.0    |  96.87 |  77.12 | 0      | 38.6   |  84.84 |  85.31 | 1.94   | 1      | 1.90   |\n",
       "| 972566 | S900   | Q11    | F      | 31-35  | 27     | 7      | 3      | 0      | 3      | ...    | 2.8    | 101.12 |  87.11 | 2      | 50.1   |  73.86 |  71.78 | 1.92   | 0      | 1.92   |\n",
       "| 973770 | S1200  | Q13    | M      | 22-25  | 28     | 5      | 1      | 1      | 2      | ...    | 5.2    | 108.79 |  97.19 | 0      | 51.9   | 126.51 | 128.53 | 1.92   | 0      | 1.92   |\n",
       "| 978578 | Q3     | Q04    | F      | 31-35  | 30     | 4      | 1      | 1      | 0      | ...    | 3.6    | 122.25 | 111.41 | 0      | 38.6   |  80.52 |  78.21 | 1.72   | 1      | 1.68   |\n",
       "| 979984 | S500   | Q07    | F      | 31-35  | 30     | 8      | 2      | 2      | 0      | ...    | 4.4    | 122.25 | 111.41 | 5      | 54.3   |  86.03 |  84.40 | 1.76   | 0      | 1.76   |\n",
       "| 983773 | S500   | Q05    | M      | 26-30  | 30     | 5      | 1      | 1      | 0      | ...    | 3.6    | 108.79 |  97.19 | 2      | 52.6   |  92.84 |  91.14 | 1.80   | 0      | 1.80   |\n",
       "| 984472 | Q2     | Q02    | F      | 26-30  | 30     | 5      | 1      | 1      | 1      | ...    | 2.8    | 122.25 | 110.45 | 0      | 38.6   | 108.73 | 108.00 | 1.76   | 0      | 1.76   |\n",
       "| 987074 | S1200  | Q10    | M      | 22-25  | 30     | 6      | 1      | 2      | 0      | ...    | 3.6    | 101.12 |  86.45 | 0      | 38.6   | 101.63 | 101.22 | 1.92   | 0      | 1.92   |\n",
       "| 987983 | S500   | Q04    | F      | 26-30  | 30     | 3      | 1      | 1      | 0      | ...    | 5.2    | 108.79 |  97.19 | 5      | 56.4   |  88.02 |  87.70 | 1.88   | 0      | 1.88   |\n",
       "| 989987 | S1200  | Q13    | M      | 31-35  | 29     | 4      | 1      | 0      | 1      | ...    | 2.0    | 101.12 |  87.11 | 4      | 52.6   |  98.31 |  97.68 | 1.80   | 0      | 1.80   |\n",
       "| 990366 | S900   | Q10    | M      | 22-25  | 28     | 4      | 1      | 1      | 0      | ...    | 4.4    | 108.79 |  97.19 | 1      | 52.6   |  93.82 |  92.63 | 1.80   | 0      | 1.80   |\n",
       "| 991267 | S500   | Q06    | M      | 26-30  | 29     | 5      | 1      | 1      | 1      | ...    | 2.8    | 122.25 | 111.41 | 1      | 46.6   |  83.23 |  81.55 | 1.84   | 0      | 1.84   |\n",
       "| 992673 | S900   | Q12    | F      | 31-35  | 30     | 0      | 0      | 0      | 0      | ...    | 3.6    | 122.25 | 111.41 | 1      | 38.6   | 101.63 |  99.26 | 1.80   | 0      | 1.80   |\n",
       "| 992774 | Q2     | Q02    | M      | 31-35  | 30     | 2      | 0      | 1      | 0      | ...    | 8.4    | 122.25 | 111.41 | 4      | 50.1   | 107.17 | 103.55 | 1.76   | 0      | 1.76   |\n",
       "| 993675 | S900   | Q09    | F      | 26-30  | 30     | 4      | 1      | 1      | 1      | ...    | 0.4    | 122.25 | 110.45 | 0      | 38.6   |  84.07 |  84.25 | 1.80   | 1      | 1.76   |\n",
       "| 994273 | S500   | Q06    | M      | 26-30  | 28     | 8      | 1      | 1      | 0      | ...    | 6.0    | 122.25 | 111.41 | 7      | 63.8   | 110.65 | 109.73 | 1.80   | 1      | 1.76   |\n",
       "| 995174 | S1200  | Q13    | M      | 22-25  | 26     | 7      | 1      | 2      | 0      | ...    | 3.6    |  88.61 |  64.58 | 3      | 50.1   | 117.16 | 117.40 | 1.80   | 0      | 1.80   |\n",
       "| 996782 | S900   | Q08    | F      | 26-30  | 30     | 4      | 1      | 1      | 1      | ...    | 6.0    | 108.79 |  97.19 | 0      | 38.6   |  75.43 |  73.72 | 1.84   | 0      | 1.84   |\n",
       "\n"
      ],
      "text/plain": [
       "     Subject Release Acquisition Gender Age   MMSE_Score PSQI_Score PSQI_Comp1\n",
       "1    100004  S900    Q06         M      22-25 29          8         1         \n",
       "2    100206  S900    Q11         M      26-30 30          6         1         \n",
       "3    100307  Q1      Q01         F      26-30 29          4         1         \n",
       "4    100408  Q3      Q03         M      31-35 30          4         1         \n",
       "5    100610  S900    Q08         M      26-30 30          4         1         \n",
       "6    101006  S500    Q06         F      31-35 28          2         1         \n",
       "7    101107  S500    Q06         M      22-25 29          9         1         \n",
       "8    101208  S1200   Q12         F      31-35 30          6         1         \n",
       "9    101309  S500    Q06         M      26-30 29          5         1         \n",
       "10   101410  S500    Q06         M      26-30 29          8         1         \n",
       "11   101612  S900    Q11         F      26-30 28          4         1         \n",
       "12   101915  Q3      Q04         F      31-35 29          6         1         \n",
       "13   102008  S500    Q06         M      22-25 30          3         1         \n",
       "14   102109  S1200   Q13         M      26-30 29          3         0         \n",
       "15   102311  S500    Q06         F      26-30 30          4         0         \n",
       "16   102513  S900    Q10         M      26-30 29          1         1         \n",
       "17   102614  S1200   Q12         M      22-25 29          5         1         \n",
       "18   102715  S1200   Q12         M      26-30 29          0         0         \n",
       "19   102816  Q3      Q03         F      26-30 29          8         1         \n",
       "20   103010  S1200   Q12         M      22-25 28         10         1         \n",
       "21   103111  S500    Q06         M      26-30 26         10         1         \n",
       "22   103212  S1200   Q13         M      31-35 26          5         1         \n",
       "23   103414  Q2      Q02         F      22-25 29          9         1         \n",
       "24   103515  Q1      Q02         F      26-30 27         11         3         \n",
       "25   103818  Q1      Q01         F      31-35 28          5         1         \n",
       "26   104012  MEG2    Q07         F      26-30 27          4         1         \n",
       "27   104113  S900    Q09         M      26-30 27          2         0         \n",
       "28   104416  S900    Q09         F      31-35 30          0         0         \n",
       "29   104820  S500    Q06         F      36+   27          3         1         \n",
       "30   105014  S500    Q05         F      26-30 30          1         1         \n",
       "...  ...     ...     ...         ...    ...   ...        ...        ...       \n",
       "1177 953764  S900    Q10         F      31-35 30         5          1         \n",
       "1178 955465  S900    Q08         M      26-30 29         2          0         \n",
       "1179 957974  S500    Q04         F      26-30 30         4          1         \n",
       "1180 958976  S500    Q05         M      26-30 29         3          1         \n",
       "1181 959069  S1200   Q04         M      31-35 30         2          1         \n",
       "1182 959574  Q3      Q03         F      26-30 30         3          1         \n",
       "1183 962058  S1200   Q08         M      26-30 28         6          1         \n",
       "1184 965367  S500    Q07         M      31-35 27         7          1         \n",
       "1185 965771  S500    Q05         M      31-35 27         3          1         \n",
       "1186 966975  S900    Q12         M      22-25 28         1          0         \n",
       "1187 969476  S1200   Q12         M      31-35 29         4          1         \n",
       "1188 970764  S1200   Q09         F      22-25 30         3          1         \n",
       "1189 971160  S1200   Q10         M      26-30 30         3          1         \n",
       "1190 972566  S900    Q11         F      31-35 27         7          3         \n",
       "1191 973770  S1200   Q13         M      22-25 28         5          1         \n",
       "1192 978578  Q3      Q04         F      31-35 30         4          1         \n",
       "1193 979984  S500    Q07         F      31-35 30         8          2         \n",
       "1194 983773  S500    Q05         M      26-30 30         5          1         \n",
       "1195 984472  Q2      Q02         F      26-30 30         5          1         \n",
       "1196 987074  S1200   Q10         M      22-25 30         6          1         \n",
       "1197 987983  S500    Q04         F      26-30 30         3          1         \n",
       "1198 989987  S1200   Q13         M      31-35 29         4          1         \n",
       "1199 990366  S900    Q10         M      22-25 28         4          1         \n",
       "1200 991267  S500    Q06         M      26-30 29         5          1         \n",
       "1201 992673  S900    Q12         F      31-35 30         0          0         \n",
       "1202 992774  Q2      Q02         M      31-35 30         2          0         \n",
       "1203 993675  S900    Q09         F      26-30 30         4          1         \n",
       "1204 994273  S500    Q06         M      26-30 28         8          1         \n",
       "1205 995174  S1200   Q13         M      22-25 26         7          1         \n",
       "1206 996782  S900    Q08         F      26-30 30         4          1         \n",
       "     PSQI_Comp2 PSQI_Comp3 ... Noise_Comp Odor_Unadj Odor_AgeAdj\n",
       "1    2          2          ... 5.2        101.12      86.45     \n",
       "2    1          1          ... 6.0        108.79      97.19     \n",
       "3    0          1          ... 3.6        101.12      86.45     \n",
       "4    1          0          ... 2.0        108.79      98.04     \n",
       "5    1          0          ... 2.0        122.25     110.45     \n",
       "6    1          0          ... 6.0        122.25     111.41     \n",
       "7    1          3          ... 6.8        108.79      97.19     \n",
       "8    2          0          ... 4.4        101.12      87.11     \n",
       "9    1          2          ... 5.2        122.25     110.45     \n",
       "10   2          2          ... 6.8        122.25     111.41     \n",
       "11   1          0          ... 4.4        122.25     111.41     \n",
       "12   1          1          ... 4.4         96.87      77.61     \n",
       "13   1          0          ... 6.0        122.25     110.45     \n",
       "14   1          0          ... 3.6        108.79      97.19     \n",
       "15   1          1          ... 4.4        122.25     110.45     \n",
       "16   0          0          ... 5.2        108.79      98.04     \n",
       "17   0          2          ... 3.6         96.87      77.12     \n",
       "18   0          0          ... 5.2         93.38      69.88     \n",
       "19   2          1          ... 5.2        122.25     111.41     \n",
       "20   1          3          ... 5.2        101.12      86.45     \n",
       "21   3          2          ... 6.8        122.25     111.41     \n",
       "22   1          1          ... 8.4        101.12      87.11     \n",
       "23   1          2          ... 4.4        108.79      97.19     \n",
       "24   2          3          ... 6.0         96.87      77.12     \n",
       "25   1          1          ... 4.4        108.79      98.04     \n",
       "26   1          0          ... 6.0        122.25     110.45     \n",
       "27   1          0          ... 6.0         96.87      77.12     \n",
       "28   0          0          ... 2.8        101.12      87.11     \n",
       "29   1          0          ... 5.2        108.79      98.04     \n",
       "30   0          0          ... 3.6        108.79      97.19     \n",
       "...  ...        ...            ...        ...        ...        \n",
       "1177 1          1          ... 4.4        101.12      87.11     \n",
       "1178 1          0          ... 0.4        122.25     110.45     \n",
       "1179 0          1          ... 2.8        108.79      97.19     \n",
       "1180 1          0          ... 5.2        101.12      86.45     \n",
       "1181 0          0          ... 3.6        108.79      98.04     \n",
       "1182 0          0          ... 3.6        122.25     110.45     \n",
       "1183 1          0          ... 5.2        101.12      86.45     \n",
       "1184 1          1          ... 6.8        101.12      87.11     \n",
       "1185 0          1          ... 5.2        101.12      87.11     \n",
       "1186 0          0          ... 3.6        122.25     110.45     \n",
       "1187 1          0          ... 6.8        101.12      87.11     \n",
       "1188 1          0          ... 3.6        108.79      97.19     \n",
       "1189 0          0          ... 6.0         96.87      77.12     \n",
       "1190 0          3          ... 2.8        101.12      87.11     \n",
       "1191 1          2          ... 5.2        108.79      97.19     \n",
       "1192 1          0          ... 3.6        122.25     111.41     \n",
       "1193 2          0          ... 4.4        122.25     111.41     \n",
       "1194 1          0          ... 3.6        108.79      97.19     \n",
       "1195 1          1          ... 2.8        122.25     110.45     \n",
       "1196 2          0          ... 3.6        101.12      86.45     \n",
       "1197 1          0          ... 5.2        108.79      97.19     \n",
       "1198 0          1          ... 2.0        101.12      87.11     \n",
       "1199 1          0          ... 4.4        108.79      97.19     \n",
       "1200 1          1          ... 2.8        122.25     111.41     \n",
       "1201 0          0          ... 3.6        122.25     111.41     \n",
       "1202 1          0          ... 8.4        122.25     111.41     \n",
       "1203 1          1          ... 0.4        122.25     110.45     \n",
       "1204 1          0          ... 6.0        122.25     111.41     \n",
       "1205 2          0          ... 3.6         88.61      64.58     \n",
       "1206 1          1          ... 6.0        108.79      97.19     \n",
       "     PainIntens_RawScore PainInterf_Tscore Taste_Unadj Taste_AgeAdj\n",
       "1     2                  45.9              107.17      105.31      \n",
       "2     1                  49.7               72.63       72.03      \n",
       "3     0                  38.6               71.69       71.76      \n",
       "4     2                  52.6              114.01      113.59      \n",
       "5     0                  38.6               84.84       85.31      \n",
       "6     0                  38.6              123.80      123.31      \n",
       "7     1                  50.1              134.65      131.38      \n",
       "8     1                  50.1              105.57      102.32      \n",
       "9     0                  38.6              106.39      104.39      \n",
       "10    3                  50.1               73.86       71.78      \n",
       "11    2                  48.7               97.26       96.41      \n",
       "12    0                  38.6              112.11      111.70      \n",
       "13    0                  50.1               67.48       65.31      \n",
       "14    1                  50.1               90.63       88.99      \n",
       "15    1                  52.2               98.31       99.06      \n",
       "16    2                  54.3               84.07       82.37      \n",
       "17    0                  38.6               79.67       78.91      \n",
       "18    1                  38.6               86.03       86.60      \n",
       "19    1                  52.6               98.31       97.68      \n",
       "20    7                  38.6              103.37      102.15      \n",
       "21    1                  47.1              109.15      107.30      \n",
       "22    1                  49.7               72.63       70.67      \n",
       "23    0                  38.6               91.50       89.45      \n",
       "24   10                  58.7              126.51      128.53      \n",
       "25    0                  38.6               90.63       87.88      \n",
       "26    2                  50.1               78.02       77.40      \n",
       "27    0                  38.6               84.84       85.31      \n",
       "28    0                  38.6               95.36       93.48      \n",
       "29    0                  38.6              123.80      123.31      \n",
       "30    0                  38.6               73.86       72.70      \n",
       "...  ...                 ...               ...         ...         \n",
       "1177 0                   38.6               96.87       95.48      \n",
       "1178 1                   48.7               84.84       85.31      \n",
       "1179 2                   38.6               78.78       78.13      \n",
       "1180 0                   44.1               77.47       76.79      \n",
       "1181 2                   50.1               72.63       70.67      \n",
       "1182 0                   44.1               97.69       98.31      \n",
       "1183 0                   49.7               76.93       75.97      \n",
       "1184 0                   38.6              109.56      108.04      \n",
       "1185 3                   54.3              107.17      103.55      \n",
       "1186 0                   38.6               84.07       84.25      \n",
       "1187 1                   56.0               72.63       70.67      \n",
       "1188 1                   54.6               97.26       97.63      \n",
       "1189 0                   38.6               84.84       85.31      \n",
       "1190 2                   50.1               73.86       71.78      \n",
       "1191 0                   51.9              126.51      128.53      \n",
       "1192 0                   38.6               80.52       78.21      \n",
       "1193 5                   54.3               86.03       84.40      \n",
       "1194 2                   52.6               92.84       91.14      \n",
       "1195 0                   38.6              108.73      108.00      \n",
       "1196 0                   38.6              101.63      101.22      \n",
       "1197 5                   56.4               88.02       87.70      \n",
       "1198 4                   52.6               98.31       97.68      \n",
       "1199 1                   52.6               93.82       92.63      \n",
       "1200 1                   46.6               83.23       81.55      \n",
       "1201 1                   38.6              101.63       99.26      \n",
       "1202 4                   50.1              107.17      103.55      \n",
       "1203 0                   38.6               84.07       84.25      \n",
       "1204 7                   63.8              110.65      109.73      \n",
       "1205 3                   50.1              117.16      117.40      \n",
       "1206 0                   38.6               75.43       73.72      \n",
       "     Mars_Log_Score Mars_Errs Mars_Final\n",
       "1    1.80           0         1.80      \n",
       "2    1.84           0         1.84      \n",
       "3    1.76           0         1.76      \n",
       "4    1.76           2         1.68      \n",
       "5    1.92           1         1.88      \n",
       "6    1.80           0         1.80      \n",
       "7    1.84           0         1.84      \n",
       "8    1.92           0         1.92      \n",
       "9    1.80           0         1.80      \n",
       "10   1.80           0         1.80      \n",
       "11   1.84           0         1.84      \n",
       "12   1.84           1         1.80      \n",
       "13   1.80           0         1.80      \n",
       "14   1.80           1         1.76      \n",
       "15   1.80           0         1.80      \n",
       "16   1.92           0         1.92      \n",
       "17   1.80           1         1.76      \n",
       "18   1.84           0         1.84      \n",
       "19   1.72           1         1.68      \n",
       "20   1.84           0         1.84      \n",
       "21   1.80           0         1.80      \n",
       "22   1.80           1         1.76      \n",
       "23   1.76           0         1.76      \n",
       "24   1.88           1         1.84      \n",
       "25   1.88           1         1.84      \n",
       "26   1.80           0         1.80      \n",
       "27   1.84           2         1.76      \n",
       "28   1.92           1         1.88      \n",
       "29   1.80           0         1.80      \n",
       "30   1.80           0         1.80      \n",
       "...  ...            ...       ...       \n",
       "1177 1.84           0         1.84      \n",
       "1178 1.80           0         1.80      \n",
       "1179 1.80           0         1.80      \n",
       "1180 1.92           0         1.92      \n",
       "1181 1.80           0         1.80      \n",
       "1182 1.72           0         1.72      \n",
       "1183 1.84           2         1.76      \n",
       "1184 1.92           0         1.92      \n",
       "1185 1.80           0         1.80      \n",
       "1186 1.80           0         1.80      \n",
       "1187 1.80           0         1.80      \n",
       "1188 1.80           2         1.72      \n",
       "1189 1.94           1         1.90      \n",
       "1190 1.92           0         1.92      \n",
       "1191 1.92           0         1.92      \n",
       "1192 1.72           1         1.68      \n",
       "1193 1.76           0         1.76      \n",
       "1194 1.80           0         1.80      \n",
       "1195 1.76           0         1.76      \n",
       "1196 1.92           0         1.92      \n",
       "1197 1.88           0         1.88      \n",
       "1198 1.80           0         1.80      \n",
       "1199 1.80           0         1.80      \n",
       "1200 1.84           0         1.84      \n",
       "1201 1.80           0         1.80      \n",
       "1202 1.76           0         1.76      \n",
       "1203 1.80           1         1.76      \n",
       "1204 1.80           1         1.76      \n",
       "1205 1.80           0         1.80      \n",
       "1206 1.84           0         1.84      "
      ]
     },
     "metadata": {},
     "output_type": "display_data"
    }
   ],
   "source": [
    "library(tidyverse)\n",
    "library(class)\n",
    "hcp_data <- read.csv(\"/Users/caoanjie/Desktop/Spring2020/DS/_DSPN_S20/hw6/unrestricted_trimmed_1_7_2020_10_50_44.csv\")\n",
    "hcp_data"
   ]
  },
  {
   "cell_type": "markdown",
   "metadata": {},
   "source": [
    "4. Use kNN to build a classifier that for predicting Gender using the unadjusted Flanker task performance (Flanker_unadj). \n",
    "\n",
    "(a) Split the data set up into 1206 training observations and 200 test observations. Clasffiy using kNN with k = 5. Show your classification accuracy as a predicted vs. observed table, and report the mean classification accuracy."
   ]
  },
  {
   "cell_type": "markdown",
   "metadata": {},
   "source": [
    "the mean classification accuracy is 98.5%"
   ]
  },
  {
   "cell_type": "code",
   "execution_count": 71,
   "metadata": {},
   "outputs": [
    {
     "data": {
      "text/html": [
       "<table>\n",
       "<thead><tr><th scope=col>n</th></tr></thead>\n",
       "<tbody>\n",
       "\t<tr><td>1206</td></tr>\n",
       "</tbody>\n",
       "</table>\n"
      ],
      "text/latex": [
       "\\begin{tabular}{r|l}\n",
       " n\\\\\n",
       "\\hline\n",
       "\t 1206\\\\\n",
       "\\end{tabular}\n"
      ],
      "text/markdown": [
       "\n",
       "| n |\n",
       "|---|\n",
       "| 1206 |\n",
       "\n"
      ],
      "text/plain": [
       "  n   \n",
       "1 1206"
      ]
     },
     "metadata": {},
     "output_type": "display_data"
    },
    {
     "data": {
      "text/plain": [
       "          hcp_gender_test\n",
       "knn_result   0   1\n",
       "         0  90   3\n",
       "         1   0 107"
      ]
     },
     "metadata": {},
     "output_type": "display_data"
    }
   ],
   "source": [
    "# -------------------------------\n",
    "# Question 4\n",
    "# -------------------------------\n",
    "set.seed(8)\n",
    "# recode Gender, Female is 1, Male is 0 \n",
    "hcp_data <- hcp_data %>% select(Gender, Flanker_Unadj)  %>% na.omit()  %>% mutate(Gender = ifelse(Gender == \"F\", 1, 0))\n",
    "count(hcp_data)\n",
    "\n",
    "#Splitting up the dataset \n",
    "rand <- sample(x=1206, size = 200)\n",
    "hcp_test <- hcp_data[rand, ]  \n",
    "hcp_train <- hcp_data[-rand, ]  \n",
    "\n",
    "#Get the target category\n",
    "hcp_gender_target <- hcp_train  %>% pull(Gender)\n",
    "hcp_gender_test <- hcp_test  %>% pull(Gender)\n",
    "\n",
    "# (a)\n",
    "knn_result <- knn(hcp_train, hcp_test, hcp_gender_target, k = 5)\n",
    "table <- table(knn_result,hcp_gender_test)\n",
    "table\n"
   ]
  },
  {
   "cell_type": "code",
   "execution_count": 72,
   "metadata": {},
   "outputs": [
    {
     "data": {
      "text/html": [
       "98.5"
      ],
      "text/latex": [
       "98.5"
      ],
      "text/markdown": [
       "98.5"
      ],
      "text/plain": [
       "[1] 98.5"
      ]
     },
     "metadata": {},
     "output_type": "display_data"
    }
   ],
   "source": [
    "accuracy <- sum(diag(table)/(sum(rowSums(table)))) * 100\n",
    "accuracy"
   ]
  },
  {
   "cell_type": "markdown",
   "metadata": {},
   "source": [
    "(b) Now repeat your analysis using a range of k's, from 1-100. Plot the performance of the classifier (i.e., accuracy) for each value of k. Which value gives you the highest accuracy and what is the accuracy for that best k?"
   ]
  },
  {
   "cell_type": "markdown",
   "metadata": {},
   "source": [
    "when k = 1, we have the highest accuracy 99%"
   ]
  },
  {
   "cell_type": "code",
   "execution_count": null,
   "metadata": {
    "collapsed": true
   },
   "outputs": [],
   "source": [
    "repeat_analysis <- function(n_simulations, alpha, sample_size, natural_mu, natural_sd, chimera_mu, chimera_sd) {\n",
    "  p.values <- NULL \n",
    "  for (i in 1:n_simulations) {\n",
    "    data <- simulate_data(sample_size, natural_mu, natural_sd, chimera_mu, chimera_sd) \n",
    "    p.value <- run_t_test(data) \n",
    "    p.values <- c(p.values, p.value) \n",
    "  }\n",
    "  power <- mean(p.values <= alpha)\n",
    "  return(list(power = power, p.values = p.values)) \n",
    "}\n"
   ]
  },
  {
   "cell_type": "code",
   "execution_count": 82,
   "metadata": {},
   "outputs": [
    {
     "data": {
      "image/png": "[encoded data removed]",
      "text/plain": [
       "plot without title"
      ]
     },
     "metadata": {
      "image/png": {
       "height": 420,
       "width": 420
      },
      "text/plain": {
       "height": 420,
       "width": 420
      }
     },
     "output_type": "display_data"
    }
   ],
   "source": [
    "# (b)\n",
    "calculate_accuracy <- function(table){\n",
    "    acc <- sum(diag(table)/(sum(rowSums(table)))) * 100\n",
    "    return(acc)\n",
    "}\n",
    "\n",
    "\n",
    "repeat_knn <- function(rangeOfk, training, testing, target, test_target){\n",
    "    accuracy_list <- NULL\n",
    "    k_value_list <- NULL\n",
    "    for (i in 1:rangeOfk){\n",
    "        knn_result <- knn(training, testing, target, k = i)\n",
    "        tab <- table(knn_result,test_target)\n",
    "        accuracy <- calculate_accuracy(tab)\n",
    "        k_value_list <- c(k_value_list, i)\n",
    "        accuracy_list <- c(accuracy_list, accuracy)\n",
    "    }\n",
    "    \n",
    "    return (map2_dfr(k_value_list, accuracy_list, ~ tibble(k_values = .x, accuracy_list = .y)))\n",
    "\n",
    "}\n",
    "\n",
    "knn_range <- repeat_knn(100, hcp_train, hcp_test,hcp_gender_target,hcp_gender_test)\n",
    "ggplot(knn_range, aes(x=k_values, y=accuracy_list)) + \n",
    "geom_line()"
   ]
  },
  {
   "cell_type": "code",
   "execution_count": 86,
   "metadata": {},
   "outputs": [
    {
     "data": {
      "text/html": [
       "<table>\n",
       "<thead><tr><th scope=col>k_values</th><th scope=col>accuracy_list</th></tr></thead>\n",
       "<tbody>\n",
       "\t<tr><td>1 </td><td>99</td></tr>\n",
       "</tbody>\n",
       "</table>\n"
      ],
      "text/latex": [
       "\\begin{tabular}{r|ll}\n",
       " k\\_values & accuracy\\_list\\\\\n",
       "\\hline\n",
       "\t 1  & 99\\\\\n",
       "\\end{tabular}\n"
      ],
      "text/markdown": [
       "\n",
       "| k_values | accuracy_list |\n",
       "|---|---|\n",
       "| 1  | 99 |\n",
       "\n"
      ],
      "text/plain": [
       "  k_values accuracy_list\n",
       "1 1        99           "
      ]
     },
     "metadata": {},
     "output_type": "display_data"
    }
   ],
   "source": [
    "knn_range[which.max(knn_range$accuracy_list),]"
   ]
  },
  {
   "cell_type": "markdown",
   "metadata": {},
   "source": [
    "5. Use bootstrapping to estimate the confidence on the regression coefficients for a logistic regression model using Flanker_unadj scores to predict Gender. Use 5000 iterations off the bootstrap. Report whether any of the coefficients are statistically significant using the standard error estimates off of the bootstrap."
   ]
  },
  {
   "cell_type": "markdown",
   "metadata": {},
   "source": [
    "both the intercept and the coefficient for Flanker_unadj scores are significant. None of the 95% contains 0. "
   ]
  },
  {
   "cell_type": "code",
   "execution_count": 88,
   "metadata": {},
   "outputs": [],
   "source": [
    "library(boot)"
   ]
  },
  {
   "cell_type": "code",
   "execution_count": 117,
   "metadata": {},
   "outputs": [],
   "source": [
    "# -------------------------------\n",
    "# Question 5\n",
    "# -------------------------------\n",
    "hcp_data <- read.csv(\"/Users/caoanjie/Desktop/Spring2020/DS/_DSPN_S20/hw6/unrestricted_trimmed_1_7_2020_10_50_44.csv\")\n",
    "hcp_data <- hcp_data %>% select(Gender, Flanker_Unadj)  %>% na.omit()  %>% mutate(Gender = ifelse(Gender == \"F\", 1, 0))\n",
    "\n",
    "\n",
    "boot_fn <- function(dataset, index){\n",
    "    return (coef(glm(Gender~Flanker_Unadj,data=dataset,subset = index, family=binomial(link='logit'))))\n",
    "}\n",
    "\n",
    "boot_obj <- boot(hcp_data,boot_fn,R=5000)\n"
   ]
  },
  {
   "cell_type": "code",
   "execution_count": 122,
   "metadata": {},
   "outputs": [
    {
     "name": "stdout",
     "output_type": "stream",
     "text": [
      "\n",
      "ORDINARY NONPARAMETRIC BOOTSTRAP\n",
      "\n",
      "\n",
      "Call:\n",
      "boot(data = hcp_data, statistic = boot_fn, R = 5000)\n",
      "\n",
      "\n",
      "Bootstrap Statistics :\n",
      "       original        bias    std. error\n",
      "t1*  3.44174036  0.0280519285  0.68881162\n",
      "t2* -0.02931477 -0.0002504948  0.00612518\n"
     ]
    }
   ],
   "source": [
    "print(boot_obj)"
   ]
  },
  {
   "cell_type": "code",
   "execution_count": 131,
   "metadata": {},
   "outputs": [
    {
     "name": "stderr",
     "output_type": "stream",
     "text": [
      "Warning message in boot.ci(boot_obj, index = 2):\n",
      "“bootstrap variances needed for studentized intervals”\n"
     ]
    },
    {
     "data": {
      "text/plain": [
       "BOOTSTRAP CONFIDENCE INTERVAL CALCULATIONS\n",
       "Based on 5000 bootstrap replicates\n",
       "\n",
       "CALL : \n",
       "boot.ci(boot.out = boot_obj, index = 2)\n",
       "\n",
       "Intervals : \n",
       "Level      Normal              Basic         \n",
       "95%   (-0.0411, -0.0171 )   (-0.0408, -0.0167 )  \n",
       "\n",
       "Level     Percentile            BCa          \n",
       "95%   (-0.0419, -0.0179 )   (-0.0414, -0.0172 )  \n",
       "Calculations and Intervals on Original Scale"
      ]
     },
     "metadata": {},
     "output_type": "display_data"
    }
   ],
   "source": [
    "boot.ci(boot_obj, index=2)"
   ]
  },
  {
   "cell_type": "code",
   "execution_count": 132,
   "metadata": {},
   "outputs": [
    {
     "name": "stderr",
     "output_type": "stream",
     "text": [
      "Warning message in boot.ci(boot_obj, index = 1):\n",
      "“bootstrap variances needed for studentized intervals”\n"
     ]
    },
    {
     "data": {
      "text/plain": [
       "BOOTSTRAP CONFIDENCE INTERVAL CALCULATIONS\n",
       "Based on 5000 bootstrap replicates\n",
       "\n",
       "CALL : \n",
       "boot.ci(boot.out = boot_obj, index = 1)\n",
       "\n",
       "Intervals : \n",
       "Level      Normal              Basic         \n",
       "95%   ( 2.064,  4.764 )   ( 2.040,  4.737 )  \n",
       "\n",
       "Level     Percentile            BCa          \n",
       "95%   ( 2.147,  4.843 )   ( 2.090,  4.805 )  \n",
       "Calculations and Intervals on Original Scale"
      ]
     },
     "metadata": {},
     "output_type": "display_data"
    }
   ],
   "source": [
    "boot.ci(boot_obj, index=1)"
   ]
  },
  {
   "cell_type": "code",
   "execution_count": null,
   "metadata": {
    "collapsed": true
   },
   "outputs": [],
   "source": []
  }
 ],
 "metadata": {
  "kernelspec": {
   "display_name": "R",
   "language": "R",
   "name": "ir"
  },
  "language_info": {
   "codemirror_mode": "r",
   "file_extension": ".r",
   "mimetype": "text/x-r-source",
   "name": "R",
   "pygments_lexer": "r",
   "version": "3.6.1"
  }
 },
 "nbformat": 4,
 "nbformat_minor": 2
}
